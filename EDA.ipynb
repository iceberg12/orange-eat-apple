{
 "cells": [
  {
   "cell_type": "code",
   "execution_count": 1,
   "metadata": {},
   "outputs": [],
   "source": []
  },
  {
   "cell_type": "markdown",
   "metadata": {},
   "source": [
    "### Import packages"
   ]
  },
  {
   "cell_type": "code",
   "execution_count": 113,
   "metadata": {},
   "outputs": [],
   "source": [
    "import numpy as np\n",
    "import pandas as pd\n",
    "import matplotlib.pyplot as plt\n",
    "import seaborn as sns\n",
    "import calendar\n",
    "from dateutil.relativedelta import relativedelta\n",
    "\n"
   ]
  },
  {
   "cell_type": "code",
   "execution_count": 2,
   "metadata": {},
   "outputs": [],
   "source": [
    "%matplotlib inline"
   ]
  },
  {
   "cell_type": "markdown",
   "metadata": {},
   "source": [
    "### Load data"
   ]
  },
  {
   "cell_type": "code",
   "execution_count": 3,
   "metadata": {},
   "outputs": [],
   "source": [
    "df_order = pd.read_csv('data/machine_learning_challenge_order_data.csv')\n",
    "df_label = pd.read_csv('data/machine_learning_challenge_labeled_data.csv')"
   ]
  },
  {
   "cell_type": "code",
   "execution_count": 4,
   "metadata": {},
   "outputs": [
    {
     "data": {
      "text/plain": [
       "15edce943edd    386\n",
       "8745a335e9cf    288\n",
       "d956116d863d    286\n",
       "0063666607bb    273\n",
       "ae60dce05485    270\n",
       "               ... \n",
       "17faafd27bdc      1\n",
       "a7a02633e36f      1\n",
       "19d4686ccc6b      1\n",
       "33151b171a52      1\n",
       "26c09bfe49a3      1\n",
       "Name: customer_id, Length: 245455, dtype: int64"
      ]
     },
     "execution_count": 4,
     "metadata": {},
     "output_type": "execute_result"
    }
   ],
   "source": [
    "df_order.customer_id.value_counts()"
   ]
  },
  {
   "cell_type": "code",
   "execution_count": 5,
   "metadata": {},
   "outputs": [
    {
     "data": {
      "text/plain": [
       "75e16a5e9b35    1\n",
       "2a35d8fd1786    1\n",
       "9ff4a793db67    1\n",
       "f35fe04a5348    1\n",
       "379ee3dfbfef    1\n",
       "               ..\n",
       "8f39336de920    1\n",
       "84274ff96b34    1\n",
       "26088d290482    1\n",
       "5672973b6c07    1\n",
       "26c09bfe49a3    1\n",
       "Name: customer_id, Length: 245455, dtype: int64"
      ]
     },
     "execution_count": 5,
     "metadata": {},
     "output_type": "execute_result"
    }
   ],
   "source": [
    "df_label.customer_id.value_counts()"
   ]
  },
  {
   "cell_type": "code",
   "execution_count": 6,
   "metadata": {},
   "outputs": [
    {
     "data": {
      "text/plain": [
       "100.0"
      ]
     },
     "execution_count": 6,
     "metadata": {},
     "output_type": "execute_result"
    }
   ],
   "source": [
    "# percentage of labeled customers in all orders\n",
    "cus_order = set(df_order.customer_id.unique().tolist())\n",
    "cus_label = set(df_label.customer_id.unique().tolist())\n",
    "perc_labeled = len(cus_order.intersection(cus_label)) / len(cus_order.union(cus_label)) * 100\n",
    "perc_labeled"
   ]
  },
  {
   "cell_type": "code",
   "execution_count": 155,
   "metadata": {},
   "outputs": [
    {
     "data": {
      "text/plain": [
       "245455"
      ]
     },
     "execution_count": 155,
     "metadata": {},
     "output_type": "execute_result"
    }
   ],
   "source": [
    "len(cus_order)"
   ]
  },
  {
   "cell_type": "markdown",
   "metadata": {},
   "source": [
    "### Explore"
   ]
  },
  {
   "cell_type": "code",
   "execution_count": 7,
   "metadata": {},
   "outputs": [
    {
     "data": {
      "text/html": [
       "<div>\n",
       "<style scoped>\n",
       "    .dataframe tbody tr th:only-of-type {\n",
       "        vertical-align: middle;\n",
       "    }\n",
       "\n",
       "    .dataframe tbody tr th {\n",
       "        vertical-align: top;\n",
       "    }\n",
       "\n",
       "    .dataframe thead th {\n",
       "        text-align: right;\n",
       "    }\n",
       "</style>\n",
       "<table border=\"1\" class=\"dataframe\">\n",
       "  <thead>\n",
       "    <tr style=\"text-align: right;\">\n",
       "      <th></th>\n",
       "      <th>customer_id</th>\n",
       "      <th>order_date</th>\n",
       "      <th>order_hour</th>\n",
       "      <th>customer_order_rank</th>\n",
       "      <th>is_failed</th>\n",
       "      <th>voucher_amount</th>\n",
       "      <th>delivery_fee</th>\n",
       "      <th>amount_paid</th>\n",
       "      <th>restaurant_id</th>\n",
       "      <th>city_id</th>\n",
       "      <th>payment_id</th>\n",
       "      <th>platform_id</th>\n",
       "      <th>transmission_id</th>\n",
       "    </tr>\n",
       "  </thead>\n",
       "  <tbody>\n",
       "    <tr>\n",
       "      <th>0</th>\n",
       "      <td>000097eabfd9</td>\n",
       "      <td>2015-06-20</td>\n",
       "      <td>19</td>\n",
       "      <td>1.0</td>\n",
       "      <td>0</td>\n",
       "      <td>0.0</td>\n",
       "      <td>0.000</td>\n",
       "      <td>11.46960</td>\n",
       "      <td>5803498</td>\n",
       "      <td>20326</td>\n",
       "      <td>1779</td>\n",
       "      <td>30231</td>\n",
       "      <td>4356</td>\n",
       "    </tr>\n",
       "    <tr>\n",
       "      <th>1</th>\n",
       "      <td>0000e2c6d9be</td>\n",
       "      <td>2016-01-29</td>\n",
       "      <td>20</td>\n",
       "      <td>1.0</td>\n",
       "      <td>0</td>\n",
       "      <td>0.0</td>\n",
       "      <td>0.000</td>\n",
       "      <td>9.55800</td>\n",
       "      <td>239303498</td>\n",
       "      <td>76547</td>\n",
       "      <td>1619</td>\n",
       "      <td>30359</td>\n",
       "      <td>4356</td>\n",
       "    </tr>\n",
       "    <tr>\n",
       "      <th>2</th>\n",
       "      <td>000133bb597f</td>\n",
       "      <td>2017-02-26</td>\n",
       "      <td>19</td>\n",
       "      <td>1.0</td>\n",
       "      <td>0</td>\n",
       "      <td>0.0</td>\n",
       "      <td>0.493</td>\n",
       "      <td>5.93658</td>\n",
       "      <td>206463498</td>\n",
       "      <td>33833</td>\n",
       "      <td>1619</td>\n",
       "      <td>30359</td>\n",
       "      <td>4324</td>\n",
       "    </tr>\n",
       "    <tr>\n",
       "      <th>3</th>\n",
       "      <td>00018269939b</td>\n",
       "      <td>2017-02-05</td>\n",
       "      <td>17</td>\n",
       "      <td>1.0</td>\n",
       "      <td>0</td>\n",
       "      <td>0.0</td>\n",
       "      <td>0.493</td>\n",
       "      <td>9.82350</td>\n",
       "      <td>36613498</td>\n",
       "      <td>99315</td>\n",
       "      <td>1619</td>\n",
       "      <td>30359</td>\n",
       "      <td>4356</td>\n",
       "    </tr>\n",
       "    <tr>\n",
       "      <th>4</th>\n",
       "      <td>0001a00468a6</td>\n",
       "      <td>2015-08-04</td>\n",
       "      <td>19</td>\n",
       "      <td>1.0</td>\n",
       "      <td>0</td>\n",
       "      <td>0.0</td>\n",
       "      <td>0.493</td>\n",
       "      <td>5.15070</td>\n",
       "      <td>225853498</td>\n",
       "      <td>16456</td>\n",
       "      <td>1619</td>\n",
       "      <td>29463</td>\n",
       "      <td>4356</td>\n",
       "    </tr>\n",
       "  </tbody>\n",
       "</table>\n",
       "</div>"
      ],
      "text/plain": [
       "    customer_id  order_date  order_hour  customer_order_rank  is_failed  \\\n",
       "0  000097eabfd9  2015-06-20          19                  1.0          0   \n",
       "1  0000e2c6d9be  2016-01-29          20                  1.0          0   \n",
       "2  000133bb597f  2017-02-26          19                  1.0          0   \n",
       "3  00018269939b  2017-02-05          17                  1.0          0   \n",
       "4  0001a00468a6  2015-08-04          19                  1.0          0   \n",
       "\n",
       "   voucher_amount  delivery_fee  amount_paid  restaurant_id  city_id  \\\n",
       "0             0.0         0.000     11.46960        5803498    20326   \n",
       "1             0.0         0.000      9.55800      239303498    76547   \n",
       "2             0.0         0.493      5.93658      206463498    33833   \n",
       "3             0.0         0.493      9.82350       36613498    99315   \n",
       "4             0.0         0.493      5.15070      225853498    16456   \n",
       "\n",
       "   payment_id  platform_id  transmission_id  \n",
       "0        1779        30231             4356  \n",
       "1        1619        30359             4356  \n",
       "2        1619        30359             4324  \n",
       "3        1619        30359             4356  \n",
       "4        1619        29463             4356  "
      ]
     },
     "execution_count": 7,
     "metadata": {},
     "output_type": "execute_result"
    }
   ],
   "source": [
    "df_order.head()"
   ]
  },
  {
   "cell_type": "code",
   "execution_count": 8,
   "metadata": {},
   "outputs": [
    {
     "data": {
      "text/plain": [
       "customer_id             object\n",
       "order_date              object\n",
       "order_hour               int64\n",
       "customer_order_rank    float64\n",
       "is_failed                int64\n",
       "voucher_amount         float64\n",
       "delivery_fee           float64\n",
       "amount_paid            float64\n",
       "restaurant_id            int64\n",
       "city_id                  int64\n",
       "payment_id               int64\n",
       "platform_id              int64\n",
       "transmission_id          int64\n",
       "dtype: object"
      ]
     },
     "execution_count": 8,
     "metadata": {},
     "output_type": "execute_result"
    }
   ],
   "source": [
    "df_order.dtypes"
   ]
  },
  {
   "cell_type": "code",
   "execution_count": 9,
   "metadata": {},
   "outputs": [],
   "source": [
    "for c in df_order.columns:\n",
    "    if '_id' in c:\n",
    "        df_order[c] = df_order[c].apply(str)"
   ]
  },
  {
   "cell_type": "code",
   "execution_count": 10,
   "metadata": {},
   "outputs": [
    {
     "data": {
      "text/html": [
       "<div>\n",
       "<style scoped>\n",
       "    .dataframe tbody tr th:only-of-type {\n",
       "        vertical-align: middle;\n",
       "    }\n",
       "\n",
       "    .dataframe tbody tr th {\n",
       "        vertical-align: top;\n",
       "    }\n",
       "\n",
       "    .dataframe thead th {\n",
       "        text-align: right;\n",
       "    }\n",
       "</style>\n",
       "<table border=\"1\" class=\"dataframe\">\n",
       "  <thead>\n",
       "    <tr style=\"text-align: right;\">\n",
       "      <th></th>\n",
       "      <th>customer_id</th>\n",
       "      <th>order_date</th>\n",
       "      <th>order_hour</th>\n",
       "      <th>customer_order_rank</th>\n",
       "      <th>is_failed</th>\n",
       "      <th>voucher_amount</th>\n",
       "      <th>delivery_fee</th>\n",
       "      <th>amount_paid</th>\n",
       "      <th>restaurant_id</th>\n",
       "      <th>city_id</th>\n",
       "      <th>payment_id</th>\n",
       "      <th>platform_id</th>\n",
       "      <th>transmission_id</th>\n",
       "    </tr>\n",
       "  </thead>\n",
       "  <tbody>\n",
       "    <tr>\n",
       "      <th>count</th>\n",
       "      <td>786600</td>\n",
       "      <td>786600</td>\n",
       "      <td>786600.000000</td>\n",
       "      <td>761833.000000</td>\n",
       "      <td>786600.000000</td>\n",
       "      <td>786600.000000</td>\n",
       "      <td>786600.00000</td>\n",
       "      <td>786600.000000</td>\n",
       "      <td>786600</td>\n",
       "      <td>786600</td>\n",
       "      <td>786600</td>\n",
       "      <td>786600</td>\n",
       "      <td>786600</td>\n",
       "    </tr>\n",
       "    <tr>\n",
       "      <th>unique</th>\n",
       "      <td>245455</td>\n",
       "      <td>776</td>\n",
       "      <td>NaN</td>\n",
       "      <td>NaN</td>\n",
       "      <td>NaN</td>\n",
       "      <td>NaN</td>\n",
       "      <td>NaN</td>\n",
       "      <td>NaN</td>\n",
       "      <td>13569</td>\n",
       "      <td>3749</td>\n",
       "      <td>5</td>\n",
       "      <td>14</td>\n",
       "      <td>10</td>\n",
       "    </tr>\n",
       "    <tr>\n",
       "      <th>top</th>\n",
       "      <td>15edce943edd</td>\n",
       "      <td>2017-01-01</td>\n",
       "      <td>NaN</td>\n",
       "      <td>NaN</td>\n",
       "      <td>NaN</td>\n",
       "      <td>NaN</td>\n",
       "      <td>NaN</td>\n",
       "      <td>NaN</td>\n",
       "      <td>37623498</td>\n",
       "      <td>10346</td>\n",
       "      <td>1619</td>\n",
       "      <td>29463</td>\n",
       "      <td>4356</td>\n",
       "    </tr>\n",
       "    <tr>\n",
       "      <th>freq</th>\n",
       "      <td>386</td>\n",
       "      <td>4230</td>\n",
       "      <td>NaN</td>\n",
       "      <td>NaN</td>\n",
       "      <td>NaN</td>\n",
       "      <td>NaN</td>\n",
       "      <td>NaN</td>\n",
       "      <td>NaN</td>\n",
       "      <td>1317</td>\n",
       "      <td>86654</td>\n",
       "      <td>476600</td>\n",
       "      <td>241523</td>\n",
       "      <td>341734</td>\n",
       "    </tr>\n",
       "    <tr>\n",
       "      <th>mean</th>\n",
       "      <td>NaN</td>\n",
       "      <td>NaN</td>\n",
       "      <td>17.588796</td>\n",
       "      <td>9.436810</td>\n",
       "      <td>0.031486</td>\n",
       "      <td>0.091489</td>\n",
       "      <td>0.18118</td>\n",
       "      <td>10.183271</td>\n",
       "      <td>NaN</td>\n",
       "      <td>NaN</td>\n",
       "      <td>NaN</td>\n",
       "      <td>NaN</td>\n",
       "      <td>NaN</td>\n",
       "    </tr>\n",
       "    <tr>\n",
       "      <th>std</th>\n",
       "      <td>NaN</td>\n",
       "      <td>NaN</td>\n",
       "      <td>3.357192</td>\n",
       "      <td>17.772322</td>\n",
       "      <td>0.174628</td>\n",
       "      <td>0.479558</td>\n",
       "      <td>0.36971</td>\n",
       "      <td>5.618121</td>\n",
       "      <td>NaN</td>\n",
       "      <td>NaN</td>\n",
       "      <td>NaN</td>\n",
       "      <td>NaN</td>\n",
       "      <td>NaN</td>\n",
       "    </tr>\n",
       "    <tr>\n",
       "      <th>min</th>\n",
       "      <td>NaN</td>\n",
       "      <td>NaN</td>\n",
       "      <td>0.000000</td>\n",
       "      <td>1.000000</td>\n",
       "      <td>0.000000</td>\n",
       "      <td>0.000000</td>\n",
       "      <td>0.00000</td>\n",
       "      <td>0.000000</td>\n",
       "      <td>NaN</td>\n",
       "      <td>NaN</td>\n",
       "      <td>NaN</td>\n",
       "      <td>NaN</td>\n",
       "      <td>NaN</td>\n",
       "    </tr>\n",
       "    <tr>\n",
       "      <th>25%</th>\n",
       "      <td>NaN</td>\n",
       "      <td>NaN</td>\n",
       "      <td>16.000000</td>\n",
       "      <td>1.000000</td>\n",
       "      <td>0.000000</td>\n",
       "      <td>0.000000</td>\n",
       "      <td>0.00000</td>\n",
       "      <td>6.648120</td>\n",
       "      <td>NaN</td>\n",
       "      <td>NaN</td>\n",
       "      <td>NaN</td>\n",
       "      <td>NaN</td>\n",
       "      <td>NaN</td>\n",
       "    </tr>\n",
       "    <tr>\n",
       "      <th>50%</th>\n",
       "      <td>NaN</td>\n",
       "      <td>NaN</td>\n",
       "      <td>18.000000</td>\n",
       "      <td>3.000000</td>\n",
       "      <td>0.000000</td>\n",
       "      <td>0.000000</td>\n",
       "      <td>0.00000</td>\n",
       "      <td>9.027000</td>\n",
       "      <td>NaN</td>\n",
       "      <td>NaN</td>\n",
       "      <td>NaN</td>\n",
       "      <td>NaN</td>\n",
       "      <td>NaN</td>\n",
       "    </tr>\n",
       "    <tr>\n",
       "      <th>75%</th>\n",
       "      <td>NaN</td>\n",
       "      <td>NaN</td>\n",
       "      <td>20.000000</td>\n",
       "      <td>10.000000</td>\n",
       "      <td>0.000000</td>\n",
       "      <td>0.000000</td>\n",
       "      <td>0.00000</td>\n",
       "      <td>12.213000</td>\n",
       "      <td>NaN</td>\n",
       "      <td>NaN</td>\n",
       "      <td>NaN</td>\n",
       "      <td>NaN</td>\n",
       "      <td>NaN</td>\n",
       "    </tr>\n",
       "    <tr>\n",
       "      <th>max</th>\n",
       "      <td>NaN</td>\n",
       "      <td>NaN</td>\n",
       "      <td>23.000000</td>\n",
       "      <td>369.000000</td>\n",
       "      <td>1.000000</td>\n",
       "      <td>93.398900</td>\n",
       "      <td>9.86000</td>\n",
       "      <td>1131.030000</td>\n",
       "      <td>NaN</td>\n",
       "      <td>NaN</td>\n",
       "      <td>NaN</td>\n",
       "      <td>NaN</td>\n",
       "      <td>NaN</td>\n",
       "    </tr>\n",
       "  </tbody>\n",
       "</table>\n",
       "</div>"
      ],
      "text/plain": [
       "         customer_id  order_date     order_hour  customer_order_rank  \\\n",
       "count         786600      786600  786600.000000        761833.000000   \n",
       "unique        245455         776            NaN                  NaN   \n",
       "top     15edce943edd  2017-01-01            NaN                  NaN   \n",
       "freq             386        4230            NaN                  NaN   \n",
       "mean             NaN         NaN      17.588796             9.436810   \n",
       "std              NaN         NaN       3.357192            17.772322   \n",
       "min              NaN         NaN       0.000000             1.000000   \n",
       "25%              NaN         NaN      16.000000             1.000000   \n",
       "50%              NaN         NaN      18.000000             3.000000   \n",
       "75%              NaN         NaN      20.000000            10.000000   \n",
       "max              NaN         NaN      23.000000           369.000000   \n",
       "\n",
       "            is_failed  voucher_amount  delivery_fee    amount_paid  \\\n",
       "count   786600.000000   786600.000000  786600.00000  786600.000000   \n",
       "unique            NaN             NaN           NaN            NaN   \n",
       "top               NaN             NaN           NaN            NaN   \n",
       "freq              NaN             NaN           NaN            NaN   \n",
       "mean         0.031486        0.091489       0.18118      10.183271   \n",
       "std          0.174628        0.479558       0.36971       5.618121   \n",
       "min          0.000000        0.000000       0.00000       0.000000   \n",
       "25%          0.000000        0.000000       0.00000       6.648120   \n",
       "50%          0.000000        0.000000       0.00000       9.027000   \n",
       "75%          0.000000        0.000000       0.00000      12.213000   \n",
       "max          1.000000       93.398900       9.86000    1131.030000   \n",
       "\n",
       "       restaurant_id city_id payment_id platform_id transmission_id  \n",
       "count         786600  786600     786600      786600          786600  \n",
       "unique         13569    3749          5          14              10  \n",
       "top         37623498   10346       1619       29463            4356  \n",
       "freq            1317   86654     476600      241523          341734  \n",
       "mean             NaN     NaN        NaN         NaN             NaN  \n",
       "std              NaN     NaN        NaN         NaN             NaN  \n",
       "min              NaN     NaN        NaN         NaN             NaN  \n",
       "25%              NaN     NaN        NaN         NaN             NaN  \n",
       "50%              NaN     NaN        NaN         NaN             NaN  \n",
       "75%              NaN     NaN        NaN         NaN             NaN  \n",
       "max              NaN     NaN        NaN         NaN             NaN  "
      ]
     },
     "execution_count": 10,
     "metadata": {},
     "output_type": "execute_result"
    }
   ],
   "source": [
    "df_order.describe(include='all')"
   ]
  },
  {
   "cell_type": "code",
   "execution_count": 11,
   "metadata": {},
   "outputs": [
    {
     "data": {
      "text/plain": [
       "<AxesSubplot:>"
      ]
     },
     "execution_count": 11,
     "metadata": {},
     "output_type": "execute_result"
    },
    {
     "data": {
      "image/png": "[encoded data removed]",
      "text/plain": [
       "<Figure size 432x288 with 1 Axes>"
      ]
     },
     "metadata": {
      "needs_background": "light"
     },
     "output_type": "display_data"
    }
   ],
   "source": [
    "df_order.order_hour.hist()"
   ]
  },
  {
   "cell_type": "code",
   "execution_count": 12,
   "metadata": {},
   "outputs": [
    {
     "data": {
      "text/plain": [
       "<AxesSubplot:ylabel='Frequency'>"
      ]
     },
     "execution_count": 12,
     "metadata": {},
     "output_type": "execute_result"
    },
    {
     "data": {
      "image/png": "[encoded data removed]",
      "text/plain": [
       "<Figure size 432x288 with 1 Axes>"
      ]
     },
     "metadata": {
      "needs_background": "light"
     },
     "output_type": "display_data"
    }
   ],
   "source": [
    "df_order.customer_order_rank.plot(kind='hist', bins=50, logy=True)\n",
    "# check if frequency is strongly correlated to returning"
   ]
  },
  {
   "cell_type": "code",
   "execution_count": 65,
   "metadata": {},
   "outputs": [
    {
     "data": {
      "text/html": [
       "<div>\n",
       "<style scoped>\n",
       "    .dataframe tbody tr th:only-of-type {\n",
       "        vertical-align: middle;\n",
       "    }\n",
       "\n",
       "    .dataframe tbody tr th {\n",
       "        vertical-align: top;\n",
       "    }\n",
       "\n",
       "    .dataframe thead th {\n",
       "        text-align: right;\n",
       "    }\n",
       "</style>\n",
       "<table border=\"1\" class=\"dataframe\">\n",
       "  <thead>\n",
       "    <tr style=\"text-align: right;\">\n",
       "      <th></th>\n",
       "      <th>amount_paid_median</th>\n",
       "      <th>amount_paid_count</th>\n",
       "    </tr>\n",
       "    <tr>\n",
       "      <th>restaurant_id</th>\n",
       "      <th></th>\n",
       "      <th></th>\n",
       "    </tr>\n",
       "  </thead>\n",
       "  <tbody>\n",
       "    <tr>\n",
       "      <th>100053498</th>\n",
       "      <td>13.00950</td>\n",
       "      <td>7</td>\n",
       "    </tr>\n",
       "    <tr>\n",
       "      <th>100063498</th>\n",
       "      <td>8.38980</td>\n",
       "      <td>163</td>\n",
       "    </tr>\n",
       "    <tr>\n",
       "      <th>100073498</th>\n",
       "      <td>13.06260</td>\n",
       "      <td>170</td>\n",
       "    </tr>\n",
       "    <tr>\n",
       "      <th>100103498</th>\n",
       "      <td>7.38090</td>\n",
       "      <td>205</td>\n",
       "    </tr>\n",
       "    <tr>\n",
       "      <th>100163498</th>\n",
       "      <td>13.14225</td>\n",
       "      <td>34</td>\n",
       "    </tr>\n",
       "    <tr>\n",
       "      <th>...</th>\n",
       "      <td>...</td>\n",
       "      <td>...</td>\n",
       "    </tr>\n",
       "    <tr>\n",
       "      <th>99773498</th>\n",
       "      <td>15.77070</td>\n",
       "      <td>5</td>\n",
       "    </tr>\n",
       "    <tr>\n",
       "      <th>99803498</th>\n",
       "      <td>15.94593</td>\n",
       "      <td>3</td>\n",
       "    </tr>\n",
       "    <tr>\n",
       "      <th>99833498</th>\n",
       "      <td>9.71730</td>\n",
       "      <td>181</td>\n",
       "    </tr>\n",
       "    <tr>\n",
       "      <th>99843498</th>\n",
       "      <td>7.96500</td>\n",
       "      <td>128</td>\n",
       "    </tr>\n",
       "    <tr>\n",
       "      <th>99993498</th>\n",
       "      <td>9.29250</td>\n",
       "      <td>85</td>\n",
       "    </tr>\n",
       "  </tbody>\n",
       "</table>\n",
       "<p>13560 rows × 2 columns</p>\n",
       "</div>"
      ],
      "text/plain": [
       "               amount_paid_median  amount_paid_count\n",
       "restaurant_id                                       \n",
       "100053498                13.00950                  7\n",
       "100063498                 8.38980                163\n",
       "100073498                13.06260                170\n",
       "100103498                 7.38090                205\n",
       "100163498                13.14225                 34\n",
       "...                           ...                ...\n",
       "99773498                 15.77070                  5\n",
       "99803498                 15.94593                  3\n",
       "99833498                  9.71730                181\n",
       "99843498                  7.96500                128\n",
       "99993498                  9.29250                 85\n",
       "\n",
       "[13560 rows x 2 columns]"
      ]
     },
     "execution_count": 65,
     "metadata": {},
     "output_type": "execute_result"
    }
   ],
   "source": [
    "res_prop = df_order.groupby('restaurant_id').agg({'amount_paid':['median', 'count']})\n",
    "res_prop.columns = ['_'.join(col) for col in res_prop.columns.values]\n",
    "res_prop"
   ]
  },
  {
   "cell_type": "code",
   "execution_count": 68,
   "metadata": {},
   "outputs": [
    {
     "data": {
      "image/png": "[encoded data removed]",
      "text/plain": [
       "<Figure size 432x432 with 3 Axes>"
      ]
     },
     "metadata": {
      "needs_background": "light"
     },
     "output_type": "display_data"
    }
   ],
   "source": [
    "g = sns.jointplot(x=\"amount_paid_median\", y=\"amount_paid_count\", data=res_prop[res_prop.amount_paid_count>=3],\n",
    "                  kind=\"reg\", truncate=False,\n",
    "                  joint_kws = {'scatter_kws':dict(alpha=0.2)})\n",
    "g.ax_joint.set_yscale('log')"
   ]
  },
  {
   "cell_type": "code",
   "execution_count": null,
   "metadata": {},
   "outputs": [],
   "source": [
    "res_prop[res_prop.am]"
   ]
  },
  {
   "cell_type": "code",
   "execution_count": 13,
   "metadata": {},
   "outputs": [],
   "source": [
    "# sns.pairplot(df_order[['order_hour', 'customer_order_rank', 'is_failed', 'voucher_amount', \n",
    "#                        'delivery_fee', 'amount_paid']].sample(frac=0.1, random_state=12), \n",
    "#              plot_kws={'alpha':0.1})"
   ]
  },
  {
   "cell_type": "code",
   "execution_count": 20,
   "metadata": {},
   "outputs": [
    {
     "data": {
      "text/plain": [
       "<AxesSubplot:title={'center':'Order trend'}, xlabel='order_date'>"
      ]
     },
     "execution_count": 20,
     "metadata": {},
     "output_type": "execute_result"
    },
    {
     "data": {
      "image/png": "[encoded data removed]",
      "text/plain": [
       "<Figure size 864x360 with 1 Axes>"
      ]
     },
     "metadata": {
      "needs_background": "light"
     },
     "output_type": "display_data"
    }
   ],
   "source": [
    "dfs = df_order.groupby('order_date')['customer_id'].count()\n",
    "dfs.index = pd.to_datetime(dfs.index)\n",
    "dfs.plot(title='Order trend', figsize=(12,5))"
   ]
  },
  {
   "cell_type": "code",
   "execution_count": 25,
   "metadata": {},
   "outputs": [
    {
     "data": {
      "text/plain": [
       "order_date\n",
       "2013-10-31      2\n",
       "2014-05-11      2\n",
       "2014-12-28      2\n",
       "2015-02-06      3\n",
       "2015-02-17      3\n",
       "2015-03-01    762\n",
       "2015-03-02    221\n",
       "2015-03-03    199\n",
       "2015-03-04    228\n",
       "2015-03-05    228\n",
       "Name: customer_id, dtype: int64"
      ]
     },
     "execution_count": 25,
     "metadata": {},
     "output_type": "execute_result"
    }
   ],
   "source": [
    "dfs[dfs > 1].sort_index().head(10)"
   ]
  },
  {
   "cell_type": "markdown",
   "metadata": {},
   "source": [
    "It seems like we can safetly remove the minor transactions before 2015-03-01 and keep the rest of transactions."
   ]
  },
  {
   "cell_type": "code",
   "execution_count": 30,
   "metadata": {},
   "outputs": [
    {
     "data": {
      "text/plain": [
       "(786547, 13)"
      ]
     },
     "execution_count": 30,
     "metadata": {},
     "output_type": "execute_result"
    }
   ],
   "source": [
    "df_order = df_order[df_order.order_date >= '2015-03-01'].reset_index(drop=True)\n",
    "df_order.shape"
   ]
  },
  {
   "cell_type": "markdown",
   "metadata": {},
   "source": [
    "Now we look at the `df_label` dataframe."
   ]
  },
  {
   "cell_type": "code",
   "execution_count": 41,
   "metadata": {},
   "outputs": [
    {
     "data": {
      "text/html": [
       "<div>\n",
       "<style scoped>\n",
       "    .dataframe tbody tr th:only-of-type {\n",
       "        vertical-align: middle;\n",
       "    }\n",
       "\n",
       "    .dataframe tbody tr th {\n",
       "        vertical-align: top;\n",
       "    }\n",
       "\n",
       "    .dataframe thead th {\n",
       "        text-align: right;\n",
       "    }\n",
       "</style>\n",
       "<table border=\"1\" class=\"dataframe\">\n",
       "  <thead>\n",
       "    <tr style=\"text-align: right;\">\n",
       "      <th></th>\n",
       "      <th>customer_id</th>\n",
       "      <th>is_returning_customer</th>\n",
       "    </tr>\n",
       "  </thead>\n",
       "  <tbody>\n",
       "    <tr>\n",
       "      <th>0</th>\n",
       "      <td>000097eabfd9</td>\n",
       "      <td>0</td>\n",
       "    </tr>\n",
       "    <tr>\n",
       "      <th>1</th>\n",
       "      <td>0000e2c6d9be</td>\n",
       "      <td>0</td>\n",
       "    </tr>\n",
       "    <tr>\n",
       "      <th>2</th>\n",
       "      <td>000133bb597f</td>\n",
       "      <td>1</td>\n",
       "    </tr>\n",
       "    <tr>\n",
       "      <th>3</th>\n",
       "      <td>00018269939b</td>\n",
       "      <td>0</td>\n",
       "    </tr>\n",
       "    <tr>\n",
       "      <th>4</th>\n",
       "      <td>0001a00468a6</td>\n",
       "      <td>0</td>\n",
       "    </tr>\n",
       "  </tbody>\n",
       "</table>\n",
       "</div>"
      ],
      "text/plain": [
       "    customer_id  is_returning_customer\n",
       "0  000097eabfd9                      0\n",
       "1  0000e2c6d9be                      0\n",
       "2  000133bb597f                      1\n",
       "3  00018269939b                      0\n",
       "4  0001a00468a6                      0"
      ]
     },
     "execution_count": 41,
     "metadata": {},
     "output_type": "execute_result"
    }
   ],
   "source": [
    "df_label.head()"
   ]
  },
  {
   "cell_type": "code",
   "execution_count": 42,
   "metadata": {},
   "outputs": [
    {
     "data": {
      "text/plain": [
       "0    189948\n",
       "1     55507\n",
       "Name: is_returning_customer, dtype: int64"
      ]
     },
     "execution_count": 42,
     "metadata": {},
     "output_type": "execute_result"
    }
   ],
   "source": [
    "df_label.is_returning_customer.value_counts()"
   ]
  },
  {
   "cell_type": "markdown",
   "metadata": {},
   "source": [
    "### Feature Engineering"
   ]
  },
  {
   "cell_type": "markdown",
   "metadata": {},
   "source": [
    "Derivation of the following features can be done\n",
    "\n",
    "- Transaction patterns (FRM): frequency (amount of orders completed per month in the last 12 months, per week in the last 12 weeks), recency (number of days since last order, latest customer_order_rank), monetary (median and total of voucher_amount/delivery_fee/amount_paid in the past)\n",
    "- Transaction behaviors (weekday preference in terms of %)\n",
    "- Restaurant orientations (variety of ordered restaurants)"
   ]
  },
  {
   "cell_type": "code",
   "execution_count": 93,
   "metadata": {},
   "outputs": [
    {
     "data": {
      "text/plain": [
       "('2015-03-01', '2017-02-27')"
      ]
     },
     "execution_count": 93,
     "metadata": {},
     "output_type": "execute_result"
    }
   ],
   "source": [
    "df_order.order_date.min(), df_order.order_date.max()"
   ]
  },
  {
   "cell_type": "code",
   "execution_count": 134,
   "metadata": {},
   "outputs": [
    {
     "data": {
      "text/plain": [
       "0    761786\n",
       "1     24761\n",
       "Name: is_failed, dtype: int64"
      ]
     },
     "execution_count": 134,
     "metadata": {},
     "output_type": "execute_result"
    }
   ],
   "source": [
    "df_order.is_failed.value_counts()"
   ]
  },
  {
   "cell_type": "code",
   "execution_count": 152,
   "metadata": {},
   "outputs": [],
   "source": [
    "months = sorted(df_order.year_month.unique().tolist())"
   ]
  },
  {
   "cell_type": "code",
   "execution_count": 130,
   "metadata": {},
   "outputs": [],
   "source": [
    "i = len(months) - 1\n",
    "cur = months[i]\n",
    "start = months[i-3]\n",
    "df = df_order[df_order.order_date > start].reset_index(drop=True)"
   ]
  },
  {
   "cell_type": "markdown",
   "metadata": {},
   "source": [
    "#### 1. Transaction patterns"
   ]
  },
  {
   "cell_type": "code",
   "execution_count": 121,
   "metadata": {},
   "outputs": [],
   "source": [
    "df['year_month'] = df.order_date.apply(lambda x: x[0:7])\n",
    "df['week_in_month'] = df.order_date.apply(lambda x: \n",
    "    'W1' if x[8:10] <= '07' \n",
    "    else('W2' if x[8:10] <= '14' \n",
    "    else ('W3' if x[8:10] <= '21' \n",
    "    else 'W4')))\n",
    "df['year_month_week'] = df['year_month'] + '_' + df['week_in_month']\n",
    "df['weekday'] = pd.to_datetime(df.order_date).apply(lambda x: calendar.day_name[x.weekday()])"
   ]
  },
  {
   "cell_type": "markdown",
   "metadata": {},
   "source": [
    "Since most of the months have more than 28 days, it is expected to see Week 4 (W4) to have more transactions."
   ]
  },
  {
   "cell_type": "code",
   "execution_count": 122,
   "metadata": {},
   "outputs": [
    {
     "data": {
      "text/plain": [
       "(2016-11    47129\n",
       " 2016-12    52190\n",
       " 2017-01    57021\n",
       " 2017-02    50619\n",
       " Name: year_month, dtype: int64, W4    59200\n",
       " W1    51585\n",
       " W2    48292\n",
       " W3    47882\n",
       " Name: week_in_month, dtype: int64, Sunday       50366\n",
       " Friday       31408\n",
       " Saturday     31120\n",
       " Thursday     24478\n",
       " Tuesday      23638\n",
       " Wednesday    23303\n",
       " Monday       22646\n",
       " Name: weekday, dtype: int64)"
      ]
     },
     "execution_count": 122,
     "metadata": {},
     "output_type": "execute_result"
    }
   ],
   "source": [
    "df['year_month'].value_counts().sort_index(), df.week_in_month.value_counts(), df.weekday.value_counts()"
   ]
  },
  {
   "cell_type": "markdown",
   "metadata": {},
   "source": [
    "It is no surprise that customers tend to order more on Friday, Saturday and especially Sunday."
   ]
  },
  {
   "cell_type": "code",
   "execution_count": 146,
   "metadata": {},
   "outputs": [
    {
     "data": {
      "text/html": [
       "<div>\n",
       "<style scoped>\n",
       "    .dataframe tbody tr th:only-of-type {\n",
       "        vertical-align: middle;\n",
       "    }\n",
       "\n",
       "    .dataframe tbody tr th {\n",
       "        vertical-align: top;\n",
       "    }\n",
       "\n",
       "    .dataframe thead th {\n",
       "        text-align: right;\n",
       "    }\n",
       "</style>\n",
       "<table border=\"1\" class=\"dataframe\">\n",
       "  <thead>\n",
       "    <tr style=\"text-align: right;\">\n",
       "      <th></th>\n",
       "      <th>customer_id</th>\n",
       "      <th>year_month</th>\n",
       "      <th>is_succeeded</th>\n",
       "    </tr>\n",
       "  </thead>\n",
       "  <tbody>\n",
       "    <tr>\n",
       "      <th>0</th>\n",
       "      <td>000133bb597f</td>\n",
       "      <td>2017-02</td>\n",
       "      <td>1</td>\n",
       "    </tr>\n",
       "    <tr>\n",
       "      <th>1</th>\n",
       "      <td>00018269939b</td>\n",
       "      <td>2017-02</td>\n",
       "      <td>1</td>\n",
       "    </tr>\n",
       "    <tr>\n",
       "      <th>2</th>\n",
       "      <td>0001d9036b5e</td>\n",
       "      <td>2017-01</td>\n",
       "      <td>2</td>\n",
       "    </tr>\n",
       "    <tr>\n",
       "      <th>3</th>\n",
       "      <td>0001e1e04d7d</td>\n",
       "      <td>2017-01</td>\n",
       "      <td>1</td>\n",
       "    </tr>\n",
       "    <tr>\n",
       "      <th>4</th>\n",
       "      <td>000235bf6618</td>\n",
       "      <td>2016-11</td>\n",
       "      <td>1</td>\n",
       "    </tr>\n",
       "    <tr>\n",
       "      <th>...</th>\n",
       "      <td>...</td>\n",
       "      <td>...</td>\n",
       "      <td>...</td>\n",
       "    </tr>\n",
       "    <tr>\n",
       "      <th>127748</th>\n",
       "      <td>fff976637d35</td>\n",
       "      <td>2016-12</td>\n",
       "      <td>1</td>\n",
       "    </tr>\n",
       "    <tr>\n",
       "      <th>127749</th>\n",
       "      <td>fffa8c5b83b4</td>\n",
       "      <td>2017-01</td>\n",
       "      <td>1</td>\n",
       "    </tr>\n",
       "    <tr>\n",
       "      <th>127750</th>\n",
       "      <td>fffcde162d10</td>\n",
       "      <td>2016-12</td>\n",
       "      <td>1</td>\n",
       "    </tr>\n",
       "    <tr>\n",
       "      <th>127751</th>\n",
       "      <td>fffcf45e5c69</td>\n",
       "      <td>2016-11</td>\n",
       "      <td>1</td>\n",
       "    </tr>\n",
       "    <tr>\n",
       "      <th>127752</th>\n",
       "      <td>fffcf45e5c69</td>\n",
       "      <td>2017-02</td>\n",
       "      <td>1</td>\n",
       "    </tr>\n",
       "  </tbody>\n",
       "</table>\n",
       "<p>127753 rows × 3 columns</p>\n",
       "</div>"
      ],
      "text/plain": [
       "         customer_id year_month  is_succeeded\n",
       "0       000133bb597f    2017-02             1\n",
       "1       00018269939b    2017-02             1\n",
       "2       0001d9036b5e    2017-01             2\n",
       "3       0001e1e04d7d    2017-01             1\n",
       "4       000235bf6618    2016-11             1\n",
       "...              ...        ...           ...\n",
       "127748  fff976637d35    2016-12             1\n",
       "127749  fffa8c5b83b4    2017-01             1\n",
       "127750  fffcde162d10    2016-12             1\n",
       "127751  fffcf45e5c69    2016-11             1\n",
       "127752  fffcf45e5c69    2017-02             1\n",
       "\n",
       "[127753 rows x 3 columns]"
      ]
     },
     "execution_count": 146,
     "metadata": {},
     "output_type": "execute_result"
    }
   ],
   "source": [
    "df['is_succeeded'] = df.is_failed.apply(lambda x: 1-x)\n",
    "df_freq_m = df.groupby(['customer_id', 'year_month'])['is_succeeded']\\\n",
    "    .agg('sum').reset_index()\n",
    "df_freq_m"
   ]
  },
  {
   "cell_type": "code",
   "execution_count": 147,
   "metadata": {},
   "outputs": [
    {
     "data": {
      "text/html": [
       "<div>\n",
       "<style scoped>\n",
       "    .dataframe tbody tr th:only-of-type {\n",
       "        vertical-align: middle;\n",
       "    }\n",
       "\n",
       "    .dataframe tbody tr th {\n",
       "        vertical-align: top;\n",
       "    }\n",
       "\n",
       "    .dataframe thead th {\n",
       "        text-align: right;\n",
       "    }\n",
       "</style>\n",
       "<table border=\"1\" class=\"dataframe\">\n",
       "  <thead>\n",
       "    <tr style=\"text-align: right;\">\n",
       "      <th></th>\n",
       "      <th>customer_id</th>\n",
       "      <th>year_month_week</th>\n",
       "      <th>is_succeeded</th>\n",
       "    </tr>\n",
       "  </thead>\n",
       "  <tbody>\n",
       "    <tr>\n",
       "      <th>0</th>\n",
       "      <td>000133bb597f</td>\n",
       "      <td>2017-02_W4</td>\n",
       "      <td>1</td>\n",
       "    </tr>\n",
       "    <tr>\n",
       "      <th>1</th>\n",
       "      <td>00018269939b</td>\n",
       "      <td>2017-02_W1</td>\n",
       "      <td>1</td>\n",
       "    </tr>\n",
       "    <tr>\n",
       "      <th>2</th>\n",
       "      <td>0001d9036b5e</td>\n",
       "      <td>2017-01_W1</td>\n",
       "      <td>1</td>\n",
       "    </tr>\n",
       "    <tr>\n",
       "      <th>3</th>\n",
       "      <td>0001d9036b5e</td>\n",
       "      <td>2017-01_W4</td>\n",
       "      <td>1</td>\n",
       "    </tr>\n",
       "    <tr>\n",
       "      <th>4</th>\n",
       "      <td>0001e1e04d7d</td>\n",
       "      <td>2017-01_W2</td>\n",
       "      <td>1</td>\n",
       "    </tr>\n",
       "    <tr>\n",
       "      <th>...</th>\n",
       "      <td>...</td>\n",
       "      <td>...</td>\n",
       "      <td>...</td>\n",
       "    </tr>\n",
       "    <tr>\n",
       "      <th>171627</th>\n",
       "      <td>fff976637d35</td>\n",
       "      <td>2016-12_W4</td>\n",
       "      <td>1</td>\n",
       "    </tr>\n",
       "    <tr>\n",
       "      <th>171628</th>\n",
       "      <td>fffa8c5b83b4</td>\n",
       "      <td>2017-01_W4</td>\n",
       "      <td>1</td>\n",
       "    </tr>\n",
       "    <tr>\n",
       "      <th>171629</th>\n",
       "      <td>fffcde162d10</td>\n",
       "      <td>2016-12_W2</td>\n",
       "      <td>1</td>\n",
       "    </tr>\n",
       "    <tr>\n",
       "      <th>171630</th>\n",
       "      <td>fffcf45e5c69</td>\n",
       "      <td>2016-11_W3</td>\n",
       "      <td>1</td>\n",
       "    </tr>\n",
       "    <tr>\n",
       "      <th>171631</th>\n",
       "      <td>fffcf45e5c69</td>\n",
       "      <td>2017-02_W1</td>\n",
       "      <td>1</td>\n",
       "    </tr>\n",
       "  </tbody>\n",
       "</table>\n",
       "<p>171632 rows × 3 columns</p>\n",
       "</div>"
      ],
      "text/plain": [
       "         customer_id year_month_week  is_succeeded\n",
       "0       000133bb597f      2017-02_W4             1\n",
       "1       00018269939b      2017-02_W1             1\n",
       "2       0001d9036b5e      2017-01_W1             1\n",
       "3       0001d9036b5e      2017-01_W4             1\n",
       "4       0001e1e04d7d      2017-01_W2             1\n",
       "...              ...             ...           ...\n",
       "171627  fff976637d35      2016-12_W4             1\n",
       "171628  fffa8c5b83b4      2017-01_W4             1\n",
       "171629  fffcde162d10      2016-12_W2             1\n",
       "171630  fffcf45e5c69      2016-11_W3             1\n",
       "171631  fffcf45e5c69      2017-02_W1             1\n",
       "\n",
       "[171632 rows x 3 columns]"
      ]
     },
     "execution_count": 147,
     "metadata": {},
     "output_type": "execute_result"
    }
   ],
   "source": [
    "df_freq_w = df.groupby(['customer_id', 'year_month_week'])['is_succeeded']\\\n",
    "    .agg('sum').reset_index()\n",
    "df_freq_w"
   ]
  },
  {
   "cell_type": "code",
   "execution_count": 137,
   "metadata": {},
   "outputs": [
    {
     "data": {
      "text/html": [
       "<div>\n",
       "<style scoped>\n",
       "    .dataframe tbody tr th:only-of-type {\n",
       "        vertical-align: middle;\n",
       "    }\n",
       "\n",
       "    .dataframe tbody tr th {\n",
       "        vertical-align: top;\n",
       "    }\n",
       "\n",
       "    .dataframe thead th {\n",
       "        text-align: right;\n",
       "    }\n",
       "</style>\n",
       "<table border=\"1\" class=\"dataframe\">\n",
       "  <thead>\n",
       "    <tr style=\"text-align: right;\">\n",
       "      <th></th>\n",
       "      <th>last_succeeded_in_days</th>\n",
       "      <th>last_failed_in_days</th>\n",
       "    </tr>\n",
       "    <tr>\n",
       "      <th>customer_id</th>\n",
       "      <th></th>\n",
       "      <th></th>\n",
       "    </tr>\n",
       "  </thead>\n",
       "  <tbody>\n",
       "    <tr>\n",
       "      <th>000133bb597f</th>\n",
       "      <td>3</td>\n",
       "      <td>-1</td>\n",
       "    </tr>\n",
       "    <tr>\n",
       "      <th>00018269939b</th>\n",
       "      <td>24</td>\n",
       "      <td>-1</td>\n",
       "    </tr>\n",
       "    <tr>\n",
       "      <th>0001d9036b5e</th>\n",
       "      <td>32</td>\n",
       "      <td>-1</td>\n",
       "    </tr>\n",
       "    <tr>\n",
       "      <th>0001e1e04d7d</th>\n",
       "      <td>50</td>\n",
       "      <td>-1</td>\n",
       "    </tr>\n",
       "    <tr>\n",
       "      <th>000235bf6618</th>\n",
       "      <td>101</td>\n",
       "      <td>-1</td>\n",
       "    </tr>\n",
       "    <tr>\n",
       "      <th>...</th>\n",
       "      <td>...</td>\n",
       "      <td>...</td>\n",
       "    </tr>\n",
       "    <tr>\n",
       "      <th>fff88124accd</th>\n",
       "      <td>17</td>\n",
       "      <td>-1</td>\n",
       "    </tr>\n",
       "    <tr>\n",
       "      <th>fff976637d35</th>\n",
       "      <td>67</td>\n",
       "      <td>-1</td>\n",
       "    </tr>\n",
       "    <tr>\n",
       "      <th>fffa8c5b83b4</th>\n",
       "      <td>33</td>\n",
       "      <td>-1</td>\n",
       "    </tr>\n",
       "    <tr>\n",
       "      <th>fffcde162d10</th>\n",
       "      <td>82</td>\n",
       "      <td>-1</td>\n",
       "    </tr>\n",
       "    <tr>\n",
       "      <th>fffcf45e5c69</th>\n",
       "      <td>25</td>\n",
       "      <td>-1</td>\n",
       "    </tr>\n",
       "  </tbody>\n",
       "</table>\n",
       "<p>86001 rows × 2 columns</p>\n",
       "</div>"
      ],
      "text/plain": [
       "              last_succeeded_in_days  last_failed_in_days\n",
       "customer_id                                              \n",
       "000133bb597f                       3                   -1\n",
       "00018269939b                      24                   -1\n",
       "0001d9036b5e                      32                   -1\n",
       "0001e1e04d7d                      50                   -1\n",
       "000235bf6618                     101                   -1\n",
       "...                              ...                  ...\n",
       "fff88124accd                      17                   -1\n",
       "fff976637d35                      67                   -1\n",
       "fffa8c5b83b4                      33                   -1\n",
       "fffcde162d10                      82                   -1\n",
       "fffcf45e5c69                      25                   -1\n",
       "\n",
       "[86001 rows x 2 columns]"
      ]
     },
     "execution_count": 137,
     "metadata": {},
     "output_type": "execute_result"
    }
   ],
   "source": [
    "current_date = pd.to_datetime(cur) + relativedelta(months=1)\n",
    "\n",
    "def last_order_in_days(g):\n",
    "    r = {}\n",
    "    x = g[g.is_failed == 0].order_date\n",
    "    r['last_succeeded_in_days'] = (current_date - pd.to_datetime(x.max())).days if len(x) > 0 else -1\n",
    "    x = g[g.is_failed == 1].order_date\n",
    "    r['last_failed_in_days'] = (current_date - pd.to_datetime(x.max())).days if len(x) > 0 else -1\n",
    "    return pd.Series(r, index=['last_succeeded_in_days', 'last_failed_in_days'])\n",
    "\n",
    "df_rcc = df.groupby('customer_id')[['is_failed', 'order_date']].apply(last_order_in_days)\n",
    "df_rcc = df_rcc.reset_index()\n",
    "df_rcc"
   ]
  },
  {
   "cell_type": "code",
   "execution_count": 143,
   "metadata": {},
   "outputs": [
    {
     "data": {
      "text/html": [
       "<div>\n",
       "<style scoped>\n",
       "    .dataframe tbody tr th:only-of-type {\n",
       "        vertical-align: middle;\n",
       "    }\n",
       "\n",
       "    .dataframe tbody tr th {\n",
       "        vertical-align: top;\n",
       "    }\n",
       "\n",
       "    .dataframe thead th {\n",
       "        text-align: right;\n",
       "    }\n",
       "</style>\n",
       "<table border=\"1\" class=\"dataframe\">\n",
       "  <thead>\n",
       "    <tr style=\"text-align: right;\">\n",
       "      <th></th>\n",
       "      <th>customer_id_</th>\n",
       "      <th>voucher_amount_sum</th>\n",
       "      <th>voucher_amount_median</th>\n",
       "      <th>delivery_fee_sum</th>\n",
       "      <th>delivery_fee_median</th>\n",
       "      <th>amount_paid_sum</th>\n",
       "      <th>amount_paid_median</th>\n",
       "    </tr>\n",
       "  </thead>\n",
       "  <tbody>\n",
       "    <tr>\n",
       "      <th>0</th>\n",
       "      <td>000133bb597f</td>\n",
       "      <td>0.0</td>\n",
       "      <td>0.0</td>\n",
       "      <td>0.493</td>\n",
       "      <td>0.493</td>\n",
       "      <td>5.93658</td>\n",
       "      <td>5.93658</td>\n",
       "    </tr>\n",
       "    <tr>\n",
       "      <th>1</th>\n",
       "      <td>00018269939b</td>\n",
       "      <td>0.0</td>\n",
       "      <td>0.0</td>\n",
       "      <td>0.493</td>\n",
       "      <td>0.493</td>\n",
       "      <td>9.82350</td>\n",
       "      <td>9.82350</td>\n",
       "    </tr>\n",
       "    <tr>\n",
       "      <th>2</th>\n",
       "      <td>0001d9036b5e</td>\n",
       "      <td>0.0</td>\n",
       "      <td>0.0</td>\n",
       "      <td>0.000</td>\n",
       "      <td>0.000</td>\n",
       "      <td>20.86830</td>\n",
       "      <td>10.43415</td>\n",
       "    </tr>\n",
       "    <tr>\n",
       "      <th>3</th>\n",
       "      <td>0001e1e04d7d</td>\n",
       "      <td>0.0</td>\n",
       "      <td>0.0</td>\n",
       "      <td>0.000</td>\n",
       "      <td>0.000</td>\n",
       "      <td>18.05400</td>\n",
       "      <td>18.05400</td>\n",
       "    </tr>\n",
       "    <tr>\n",
       "      <th>4</th>\n",
       "      <td>000235bf6618</td>\n",
       "      <td>0.0</td>\n",
       "      <td>0.0</td>\n",
       "      <td>0.000</td>\n",
       "      <td>0.000</td>\n",
       "      <td>6.31890</td>\n",
       "      <td>6.31890</td>\n",
       "    </tr>\n",
       "    <tr>\n",
       "      <th>...</th>\n",
       "      <td>...</td>\n",
       "      <td>...</td>\n",
       "      <td>...</td>\n",
       "      <td>...</td>\n",
       "      <td>...</td>\n",
       "      <td>...</td>\n",
       "      <td>...</td>\n",
       "    </tr>\n",
       "    <tr>\n",
       "      <th>85996</th>\n",
       "      <td>fff88124accd</td>\n",
       "      <td>0.0</td>\n",
       "      <td>0.0</td>\n",
       "      <td>0.000</td>\n",
       "      <td>0.000</td>\n",
       "      <td>15.34590</td>\n",
       "      <td>7.67295</td>\n",
       "    </tr>\n",
       "    <tr>\n",
       "      <th>85997</th>\n",
       "      <td>fff976637d35</td>\n",
       "      <td>0.0</td>\n",
       "      <td>0.0</td>\n",
       "      <td>1.479</td>\n",
       "      <td>1.479</td>\n",
       "      <td>15.13350</td>\n",
       "      <td>15.13350</td>\n",
       "    </tr>\n",
       "    <tr>\n",
       "      <th>85998</th>\n",
       "      <td>fffa8c5b83b4</td>\n",
       "      <td>0.0</td>\n",
       "      <td>0.0</td>\n",
       "      <td>0.000</td>\n",
       "      <td>0.000</td>\n",
       "      <td>6.28173</td>\n",
       "      <td>6.28173</td>\n",
       "    </tr>\n",
       "    <tr>\n",
       "      <th>85999</th>\n",
       "      <td>fffcde162d10</td>\n",
       "      <td>0.0</td>\n",
       "      <td>0.0</td>\n",
       "      <td>0.000</td>\n",
       "      <td>0.000</td>\n",
       "      <td>5.04450</td>\n",
       "      <td>5.04450</td>\n",
       "    </tr>\n",
       "    <tr>\n",
       "      <th>86000</th>\n",
       "      <td>fffcf45e5c69</td>\n",
       "      <td>0.0</td>\n",
       "      <td>0.0</td>\n",
       "      <td>0.000</td>\n",
       "      <td>0.000</td>\n",
       "      <td>24.10740</td>\n",
       "      <td>12.05370</td>\n",
       "    </tr>\n",
       "  </tbody>\n",
       "</table>\n",
       "<p>86001 rows × 7 columns</p>\n",
       "</div>"
      ],
      "text/plain": [
       "       customer_id_  voucher_amount_sum  voucher_amount_median  \\\n",
       "0      000133bb597f                 0.0                    0.0   \n",
       "1      00018269939b                 0.0                    0.0   \n",
       "2      0001d9036b5e                 0.0                    0.0   \n",
       "3      0001e1e04d7d                 0.0                    0.0   \n",
       "4      000235bf6618                 0.0                    0.0   \n",
       "...             ...                 ...                    ...   \n",
       "85996  fff88124accd                 0.0                    0.0   \n",
       "85997  fff976637d35                 0.0                    0.0   \n",
       "85998  fffa8c5b83b4                 0.0                    0.0   \n",
       "85999  fffcde162d10                 0.0                    0.0   \n",
       "86000  fffcf45e5c69                 0.0                    0.0   \n",
       "\n",
       "       delivery_fee_sum  delivery_fee_median  amount_paid_sum  \\\n",
       "0                 0.493                0.493          5.93658   \n",
       "1                 0.493                0.493          9.82350   \n",
       "2                 0.000                0.000         20.86830   \n",
       "3                 0.000                0.000         18.05400   \n",
       "4                 0.000                0.000          6.31890   \n",
       "...                 ...                  ...              ...   \n",
       "85996             0.000                0.000         15.34590   \n",
       "85997             1.479                1.479         15.13350   \n",
       "85998             0.000                0.000          6.28173   \n",
       "85999             0.000                0.000          5.04450   \n",
       "86000             0.000                0.000         24.10740   \n",
       "\n",
       "       amount_paid_median  \n",
       "0                 5.93658  \n",
       "1                 9.82350  \n",
       "2                10.43415  \n",
       "3                18.05400  \n",
       "4                 6.31890  \n",
       "...                   ...  \n",
       "85996             7.67295  \n",
       "85997            15.13350  \n",
       "85998             6.28173  \n",
       "85999             5.04450  \n",
       "86000            12.05370  \n",
       "\n",
       "[86001 rows x 7 columns]"
      ]
     },
     "execution_count": 143,
     "metadata": {},
     "output_type": "execute_result"
    }
   ],
   "source": [
    "df_money = df.groupby('customer_id')[['voucher_amount', 'delivery_fee', 'amount_paid']]\\\n",
    "    .agg(['sum','median']).reset_index()\n",
    "df_money.columns = ['_'.join(col) for col in df_money.columns.values]\n",
    "df_money"
   ]
  },
  {
   "cell_type": "code",
   "execution_count": 149,
   "metadata": {},
   "outputs": [
    {
     "data": {
      "text/html": [
       "<div>\n",
       "<style scoped>\n",
       "    .dataframe tbody tr th:only-of-type {\n",
       "        vertical-align: middle;\n",
       "    }\n",
       "\n",
       "    .dataframe tbody tr th {\n",
       "        vertical-align: top;\n",
       "    }\n",
       "\n",
       "    .dataframe thead th {\n",
       "        text-align: right;\n",
       "    }\n",
       "</style>\n",
       "<table border=\"1\" class=\"dataframe\">\n",
       "  <thead>\n",
       "    <tr style=\"text-align: right;\">\n",
       "      <th></th>\n",
       "      <th>customer_order_rank</th>\n",
       "      <th>is_failed_sum</th>\n",
       "    </tr>\n",
       "    <tr>\n",
       "      <th>customer_id</th>\n",
       "      <th></th>\n",
       "      <th></th>\n",
       "    </tr>\n",
       "  </thead>\n",
       "  <tbody>\n",
       "    <tr>\n",
       "      <th>000133bb597f</th>\n",
       "      <td>1.0</td>\n",
       "      <td>0</td>\n",
       "    </tr>\n",
       "    <tr>\n",
       "      <th>00018269939b</th>\n",
       "      <td>1.0</td>\n",
       "      <td>0</td>\n",
       "    </tr>\n",
       "    <tr>\n",
       "      <th>0001d9036b5e</th>\n",
       "      <td>3.0</td>\n",
       "      <td>0</td>\n",
       "    </tr>\n",
       "    <tr>\n",
       "      <th>0001e1e04d7d</th>\n",
       "      <td>6.0</td>\n",
       "      <td>0</td>\n",
       "    </tr>\n",
       "    <tr>\n",
       "      <th>000235bf6618</th>\n",
       "      <td>1.0</td>\n",
       "      <td>0</td>\n",
       "    </tr>\n",
       "    <tr>\n",
       "      <th>...</th>\n",
       "      <td>...</td>\n",
       "      <td>...</td>\n",
       "    </tr>\n",
       "    <tr>\n",
       "      <th>fff88124accd</th>\n",
       "      <td>11.0</td>\n",
       "      <td>0</td>\n",
       "    </tr>\n",
       "    <tr>\n",
       "      <th>fff976637d35</th>\n",
       "      <td>1.0</td>\n",
       "      <td>0</td>\n",
       "    </tr>\n",
       "    <tr>\n",
       "      <th>fffa8c5b83b4</th>\n",
       "      <td>1.0</td>\n",
       "      <td>0</td>\n",
       "    </tr>\n",
       "    <tr>\n",
       "      <th>fffcde162d10</th>\n",
       "      <td>1.0</td>\n",
       "      <td>0</td>\n",
       "    </tr>\n",
       "    <tr>\n",
       "      <th>fffcf45e5c69</th>\n",
       "      <td>2.0</td>\n",
       "      <td>0</td>\n",
       "    </tr>\n",
       "  </tbody>\n",
       "</table>\n",
       "<p>86001 rows × 2 columns</p>\n",
       "</div>"
      ],
      "text/plain": [
       "              customer_order_rank  is_failed_sum\n",
       "customer_id                                     \n",
       "000133bb597f                  1.0              0\n",
       "00018269939b                  1.0              0\n",
       "0001d9036b5e                  3.0              0\n",
       "0001e1e04d7d                  6.0              0\n",
       "000235bf6618                  1.0              0\n",
       "...                           ...            ...\n",
       "fff88124accd                 11.0              0\n",
       "fff976637d35                  1.0              0\n",
       "fffa8c5b83b4                  1.0              0\n",
       "fffcde162d10                  1.0              0\n",
       "fffcf45e5c69                  2.0              0\n",
       "\n",
       "[86001 rows x 2 columns]"
      ]
     },
     "execution_count": 149,
     "metadata": {},
     "output_type": "execute_result"
    }
   ],
   "source": [
    "# royalty, total failed transactions\n",
    "df_misc = df.groupby('customer_id').agg({\n",
    "    'customer_order_rank': 'max',\n",
    "    'is_failed': 'sum',\n",
    "})\n",
    "df_misc.rename(columns={'is_failed':'is_failed_sum'}, inplace=True)\n",
    "df_misc"
   ]
  },
  {
   "cell_type": "markdown",
   "metadata": {},
   "source": [
    "#### 2. Transaction behaviors (weekday preference in terms of %)"
   ]
  },
  {
   "cell_type": "code",
   "execution_count": 174,
   "metadata": {},
   "outputs": [
    {
     "data": {
      "text/plain": [
       "customer_id\n",
       "000133bb597f    0\n",
       "00018269939b    0\n",
       "0001d9036b5e    0\n",
       "0001e1e04d7d    0\n",
       "000235bf6618    0\n",
       "               ..\n",
       "fff88124accd    0\n",
       "fff976637d35    0\n",
       "fffa8c5b83b4    0\n",
       "fffcde162d10    0\n",
       "fffcf45e5c69    0\n",
       "Length: 86001, dtype: int64"
      ]
     },
     "execution_count": 174,
     "metadata": {},
     "output_type": "execute_result"
    }
   ],
   "source": [
    "def weekday_dist(g):\n",
    "#     g = df[df.customer_id=='001ae9f68533']\n",
    "    x = g.weekday.value_counts() / len(g) * 100\n",
    "    x.to_dict()\n",
    "    return 0\n",
    "\n",
    "df_weekday = df.groupby(['customer_id'])[['is_failed', 'weekday']].apply(weekday_dist)\n",
    "# df_weekday.name = 'count'\n",
    "# df_weekday = df_weekday.reset_index()\n",
    "df_weekday"
   ]
  },
  {
   "cell_type": "code",
   "execution_count": 187,
   "metadata": {},
   "outputs": [
    {
     "data": {
      "text/plain": [
       "{'Thursday': 30.0,\n",
       " 'Tuesday': 25.0,\n",
       " 'Friday': 10.0,\n",
       " 'Saturday': 10.0,\n",
       " 'Wednesday': 10.0,\n",
       " 'Sunday': 10.0,\n",
       " 'Monday': 5.0,\n",
       " 'unk': 0.0}"
      ]
     },
     "execution_count": 187,
     "metadata": {},
     "output_type": "execute_result"
    }
   ],
   "source": [
    "weekdays = ['Thursday', 'Tuesday', 'Friday', 'Saturday', 'Wednesday', 'Sunday', 'Monday', 'unk']\n",
    "\n",
    "g = df[df.customer_id=='001ae9f68533']\n",
    "x = g.weekday.value_counts() / len(g) * 100\n",
    "x = x.to_dict()\n",
    "for d in weekdays:\n",
    "    x[d] = x.get(d, 0.0)"
   ]
  },
  {
   "cell_type": "code",
   "execution_count": 184,
   "metadata": {},
   "outputs": [
    {
     "data": {
      "text/plain": [
       "Index(['Thursday', 'Tuesday', 'Friday', 'Saturday', 'Wednesday', 'Sunday',\n",
       "       'Monday'],\n",
       "      dtype='object')"
      ]
     },
     "execution_count": 184,
     "metadata": {},
     "output_type": "execute_result"
    }
   ],
   "source": [
    "x.keys()"
   ]
  },
  {
   "cell_type": "markdown",
   "metadata": {},
   "source": [
    "#### 3. Restaurant orientations (variety of ordered restaurants)"
   ]
  },
  {
   "cell_type": "code",
   "execution_count": null,
   "metadata": {},
   "outputs": [],
   "source": [
    "df_res = df.groupby(['customer_id', 'year_month_week'])['is_succeeded']\\\n",
    "    .agg('sum').reset_index()\n",
    "df_freq_w"
   ]
  },
  {
   "cell_type": "code",
   "execution_count": null,
   "metadata": {},
   "outputs": [],
   "source": []
  },
  {
   "cell_type": "markdown",
   "metadata": {},
   "source": [
    "### Problem Formulation"
   ]
  },
  {
   "cell_type": "markdown",
   "metadata": {},
   "source": [
    "#### 1. A Simple Model on Feb 2017"
   ]
  },
  {
   "cell_type": "markdown",
   "metadata": {},
   "source": [
    "We are going to use features derived in one year (2016-03 to 2017-02) to train and predict if a customer comes back within 6 months. The reason for *one year (12 months)* period is that holidays reoccur yearly, so customers might order again if they order last year; that's the longest time factor that can drive reodering."
   ]
  },
  {
   "cell_type": "code",
   "execution_count": 34,
   "metadata": {},
   "outputs": [
    {
     "data": {
      "text/plain": [
       "(507770, 14)"
      ]
     },
     "execution_count": 34,
     "metadata": {},
     "output_type": "execute_result"
    }
   ],
   "source": [
    "df_order_sample = df_order[df_order.order_date >= '2016-03-01'].reset_index()\n",
    "df_order_sample.shape"
   ]
  },
  {
   "cell_type": "code",
   "execution_count": 70,
   "metadata": {},
   "outputs": [
    {
     "data": {
      "text/plain": [
       "1.0"
      ]
     },
     "execution_count": 70,
     "metadata": {},
     "output_type": "execute_result"
    }
   ],
   "source": [
    "np.median([1])"
   ]
  },
  {
   "cell_type": "code",
   "execution_count": null,
   "metadata": {},
   "outputs": [],
   "source": []
  },
  {
   "cell_type": "code",
   "execution_count": null,
   "metadata": {},
   "outputs": [],
   "source": []
  },
  {
   "cell_type": "code",
   "execution_count": null,
   "metadata": {},
   "outputs": [],
   "source": []
  },
  {
   "cell_type": "code",
   "execution_count": null,
   "metadata": {},
   "outputs": [],
   "source": []
  },
  {
   "cell_type": "code",
   "execution_count": null,
   "metadata": {},
   "outputs": [],
   "source": []
  },
  {
   "cell_type": "code",
   "execution_count": null,
   "metadata": {},
   "outputs": [],
   "source": []
  },
  {
   "cell_type": "code",
   "execution_count": null,
   "metadata": {},
   "outputs": [],
   "source": []
  },
  {
   "cell_type": "code",
   "execution_count": null,
   "metadata": {},
   "outputs": [],
   "source": []
  },
  {
   "cell_type": "code",
   "execution_count": null,
   "metadata": {},
   "outputs": [],
   "source": []
  },
  {
   "cell_type": "code",
   "execution_count": null,
   "metadata": {},
   "outputs": [],
   "source": [
    "### Problem Design and Train-Test Splitting\n",
    "df_order.order_date.min(), df_order.order_date.max()"
   ]
  }
 ],
 "metadata": {
  "kernelspec": {
   "display_name": "Python 3",
   "language": "python",
   "name": "python3"
  },
  "language_info": {
   "codemirror_mode": {
    "name": "ipython",
    "version": 3
   },
   "file_extension": ".py",
   "mimetype": "text/x-python",
   "name": "python",
   "nbconvert_exporter": "python",
   "pygments_lexer": "ipython3",
   "version": "3.7.9"
  }
 },
 "nbformat": 4,
 "nbformat_minor": 4
}
