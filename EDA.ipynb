{
 "cells": [
  {
   "cell_type": "code",
   "execution_count": 1,
   "metadata": {},
   "outputs": [],
   "source": []
  },
  {
   "cell_type": "markdown",
   "metadata": {},
   "source": [
    "### Import packages"
   ]
  },
  {
   "cell_type": "code",
   "execution_count": 142,
   "metadata": {},
   "outputs": [],
   "source": [
    "import numpy as np\n",
    "import pandas as pd\n",
    "import matplotlib.pyplot as plt\n",
    "import seaborn as sns\n",
    "import calendar\n",
    "from dateutil.relativedelta import relativedelta"
   ]
  },
  {
   "cell_type": "code",
   "execution_count": 143,
   "metadata": {},
   "outputs": [],
   "source": [
    "%matplotlib inline"
   ]
  },
  {
   "cell_type": "markdown",
   "metadata": {},
   "source": [
    "### Load data"
   ]
  },
  {
   "cell_type": "code",
   "execution_count": 144,
   "metadata": {},
   "outputs": [],
   "source": [
    "df_order = pd.read_csv('data/machine_learning_challenge_order_data.csv')\n",
    "df_label = pd.read_csv('data/machine_learning_challenge_labeled_data.csv')"
   ]
  },
  {
   "cell_type": "code",
   "execution_count": 145,
   "metadata": {},
   "outputs": [
    {
     "data": {
      "text/plain": [
       "15edce943edd    386\n",
       "8745a335e9cf    288\n",
       "d956116d863d    286\n",
       "0063666607bb    273\n",
       "ae60dce05485    270\n",
       "               ... \n",
       "fc638c79abe0      1\n",
       "ff77a25903d7      1\n",
       "721ab0aac234      1\n",
       "f430278dc060      1\n",
       "9506ec7e4d11      1\n",
       "Name: customer_id, Length: 245455, dtype: int64"
      ]
     },
     "execution_count": 145,
     "metadata": {},
     "output_type": "execute_result"
    }
   ],
   "source": [
    "df_order.customer_id.value_counts()"
   ]
  },
  {
   "cell_type": "code",
   "execution_count": 146,
   "metadata": {},
   "outputs": [
    {
     "data": {
      "text/plain": [
       "c6ce4eaaf4de    1\n",
       "617b94b0ad19    1\n",
       "37e1b31a6474    1\n",
       "afc11be0047f    1\n",
       "0af32e0c69f7    1\n",
       "               ..\n",
       "2587173d56c2    1\n",
       "c78a71e36b9e    1\n",
       "13791218e453    1\n",
       "52e2f5efb6b0    1\n",
       "ebbffe136d2a    1\n",
       "Name: customer_id, Length: 245455, dtype: int64"
      ]
     },
     "execution_count": 146,
     "metadata": {},
     "output_type": "execute_result"
    }
   ],
   "source": [
    "df_label.customer_id.value_counts()"
   ]
  },
  {
   "cell_type": "code",
   "execution_count": 147,
   "metadata": {},
   "outputs": [
    {
     "data": {
      "text/plain": [
       "100.0"
      ]
     },
     "execution_count": 147,
     "metadata": {},
     "output_type": "execute_result"
    }
   ],
   "source": [
    "# percentage of labeled customers in all orders\n",
    "cus_order = set(df_order.customer_id.unique().tolist())\n",
    "cus_label = set(df_label.customer_id.unique().tolist())\n",
    "perc_labeled = len(cus_order.intersection(cus_label)) / len(cus_order.union(cus_label)) * 100\n",
    "perc_labeled"
   ]
  },
  {
   "cell_type": "code",
   "execution_count": 148,
   "metadata": {},
   "outputs": [
    {
     "data": {
      "text/plain": [
       "245455"
      ]
     },
     "execution_count": 148,
     "metadata": {},
     "output_type": "execute_result"
    }
   ],
   "source": [
    "len(cus_order)"
   ]
  },
  {
   "cell_type": "markdown",
   "metadata": {},
   "source": [
    "### Explore"
   ]
  },
  {
   "cell_type": "code",
   "execution_count": 149,
   "metadata": {},
   "outputs": [
    {
     "data": {
      "text/html": [
       "<div>\n",
       "<style scoped>\n",
       "    .dataframe tbody tr th:only-of-type {\n",
       "        vertical-align: middle;\n",
       "    }\n",
       "\n",
       "    .dataframe tbody tr th {\n",
       "        vertical-align: top;\n",
       "    }\n",
       "\n",
       "    .dataframe thead th {\n",
       "        text-align: right;\n",
       "    }\n",
       "</style>\n",
       "<table border=\"1\" class=\"dataframe\">\n",
       "  <thead>\n",
       "    <tr style=\"text-align: right;\">\n",
       "      <th></th>\n",
       "      <th>customer_id</th>\n",
       "      <th>order_date</th>\n",
       "      <th>order_hour</th>\n",
       "      <th>customer_order_rank</th>\n",
       "      <th>is_failed</th>\n",
       "      <th>voucher_amount</th>\n",
       "      <th>delivery_fee</th>\n",
       "      <th>amount_paid</th>\n",
       "      <th>restaurant_id</th>\n",
       "      <th>city_id</th>\n",
       "      <th>payment_id</th>\n",
       "      <th>platform_id</th>\n",
       "      <th>transmission_id</th>\n",
       "    </tr>\n",
       "  </thead>\n",
       "  <tbody>\n",
       "    <tr>\n",
       "      <th>0</th>\n",
       "      <td>000097eabfd9</td>\n",
       "      <td>2015-06-20</td>\n",
       "      <td>19</td>\n",
       "      <td>1.0</td>\n",
       "      <td>0</td>\n",
       "      <td>0.0</td>\n",
       "      <td>0.000</td>\n",
       "      <td>11.46960</td>\n",
       "      <td>5803498</td>\n",
       "      <td>20326</td>\n",
       "      <td>1779</td>\n",
       "      <td>30231</td>\n",
       "      <td>4356</td>\n",
       "    </tr>\n",
       "    <tr>\n",
       "      <th>1</th>\n",
       "      <td>0000e2c6d9be</td>\n",
       "      <td>2016-01-29</td>\n",
       "      <td>20</td>\n",
       "      <td>1.0</td>\n",
       "      <td>0</td>\n",
       "      <td>0.0</td>\n",
       "      <td>0.000</td>\n",
       "      <td>9.55800</td>\n",
       "      <td>239303498</td>\n",
       "      <td>76547</td>\n",
       "      <td>1619</td>\n",
       "      <td>30359</td>\n",
       "      <td>4356</td>\n",
       "    </tr>\n",
       "    <tr>\n",
       "      <th>2</th>\n",
       "      <td>000133bb597f</td>\n",
       "      <td>2017-02-26</td>\n",
       "      <td>19</td>\n",
       "      <td>1.0</td>\n",
       "      <td>0</td>\n",
       "      <td>0.0</td>\n",
       "      <td>0.493</td>\n",
       "      <td>5.93658</td>\n",
       "      <td>206463498</td>\n",
       "      <td>33833</td>\n",
       "      <td>1619</td>\n",
       "      <td>30359</td>\n",
       "      <td>4324</td>\n",
       "    </tr>\n",
       "    <tr>\n",
       "      <th>3</th>\n",
       "      <td>00018269939b</td>\n",
       "      <td>2017-02-05</td>\n",
       "      <td>17</td>\n",
       "      <td>1.0</td>\n",
       "      <td>0</td>\n",
       "      <td>0.0</td>\n",
       "      <td>0.493</td>\n",
       "      <td>9.82350</td>\n",
       "      <td>36613498</td>\n",
       "      <td>99315</td>\n",
       "      <td>1619</td>\n",
       "      <td>30359</td>\n",
       "      <td>4356</td>\n",
       "    </tr>\n",
       "    <tr>\n",
       "      <th>4</th>\n",
       "      <td>0001a00468a6</td>\n",
       "      <td>2015-08-04</td>\n",
       "      <td>19</td>\n",
       "      <td>1.0</td>\n",
       "      <td>0</td>\n",
       "      <td>0.0</td>\n",
       "      <td>0.493</td>\n",
       "      <td>5.15070</td>\n",
       "      <td>225853498</td>\n",
       "      <td>16456</td>\n",
       "      <td>1619</td>\n",
       "      <td>29463</td>\n",
       "      <td>4356</td>\n",
       "    </tr>\n",
       "  </tbody>\n",
       "</table>\n",
       "</div>"
      ],
      "text/plain": [
       "    customer_id  order_date  order_hour  customer_order_rank  is_failed  \\\n",
       "0  000097eabfd9  2015-06-20          19                  1.0          0   \n",
       "1  0000e2c6d9be  2016-01-29          20                  1.0          0   \n",
       "2  000133bb597f  2017-02-26          19                  1.0          0   \n",
       "3  00018269939b  2017-02-05          17                  1.0          0   \n",
       "4  0001a00468a6  2015-08-04          19                  1.0          0   \n",
       "\n",
       "   voucher_amount  delivery_fee  amount_paid  restaurant_id  city_id  \\\n",
       "0             0.0         0.000     11.46960        5803498    20326   \n",
       "1             0.0         0.000      9.55800      239303498    76547   \n",
       "2             0.0         0.493      5.93658      206463498    33833   \n",
       "3             0.0         0.493      9.82350       36613498    99315   \n",
       "4             0.0         0.493      5.15070      225853498    16456   \n",
       "\n",
       "   payment_id  platform_id  transmission_id  \n",
       "0        1779        30231             4356  \n",
       "1        1619        30359             4356  \n",
       "2        1619        30359             4324  \n",
       "3        1619        30359             4356  \n",
       "4        1619        29463             4356  "
      ]
     },
     "execution_count": 149,
     "metadata": {},
     "output_type": "execute_result"
    }
   ],
   "source": [
    "df_order.head()"
   ]
  },
  {
   "cell_type": "code",
   "execution_count": 150,
   "metadata": {},
   "outputs": [
    {
     "data": {
      "text/plain": [
       "customer_id             object\n",
       "order_date              object\n",
       "order_hour               int64\n",
       "customer_order_rank    float64\n",
       "is_failed                int64\n",
       "voucher_amount         float64\n",
       "delivery_fee           float64\n",
       "amount_paid            float64\n",
       "restaurant_id            int64\n",
       "city_id                  int64\n",
       "payment_id               int64\n",
       "platform_id              int64\n",
       "transmission_id          int64\n",
       "dtype: object"
      ]
     },
     "execution_count": 150,
     "metadata": {},
     "output_type": "execute_result"
    }
   ],
   "source": [
    "df_order.dtypes"
   ]
  },
  {
   "cell_type": "code",
   "execution_count": 151,
   "metadata": {},
   "outputs": [],
   "source": [
    "for c in df_order.columns:\n",
    "    if '_id' in c:\n",
    "        df_order[c] = df_order[c].apply(str)"
   ]
  },
  {
   "cell_type": "code",
   "execution_count": 152,
   "metadata": {},
   "outputs": [
    {
     "data": {
      "text/html": [
       "<div>\n",
       "<style scoped>\n",
       "    .dataframe tbody tr th:only-of-type {\n",
       "        vertical-align: middle;\n",
       "    }\n",
       "\n",
       "    .dataframe tbody tr th {\n",
       "        vertical-align: top;\n",
       "    }\n",
       "\n",
       "    .dataframe thead th {\n",
       "        text-align: right;\n",
       "    }\n",
       "</style>\n",
       "<table border=\"1\" class=\"dataframe\">\n",
       "  <thead>\n",
       "    <tr style=\"text-align: right;\">\n",
       "      <th></th>\n",
       "      <th>customer_id</th>\n",
       "      <th>order_date</th>\n",
       "      <th>order_hour</th>\n",
       "      <th>customer_order_rank</th>\n",
       "      <th>is_failed</th>\n",
       "      <th>voucher_amount</th>\n",
       "      <th>delivery_fee</th>\n",
       "      <th>amount_paid</th>\n",
       "      <th>restaurant_id</th>\n",
       "      <th>city_id</th>\n",
       "      <th>payment_id</th>\n",
       "      <th>platform_id</th>\n",
       "      <th>transmission_id</th>\n",
       "    </tr>\n",
       "  </thead>\n",
       "  <tbody>\n",
       "    <tr>\n",
       "      <th>count</th>\n",
       "      <td>786600</td>\n",
       "      <td>786600</td>\n",
       "      <td>786600.000000</td>\n",
       "      <td>761833.000000</td>\n",
       "      <td>786600.000000</td>\n",
       "      <td>786600.000000</td>\n",
       "      <td>786600.00000</td>\n",
       "      <td>786600.000000</td>\n",
       "      <td>786600</td>\n",
       "      <td>786600</td>\n",
       "      <td>786600</td>\n",
       "      <td>786600</td>\n",
       "      <td>786600</td>\n",
       "    </tr>\n",
       "    <tr>\n",
       "      <th>unique</th>\n",
       "      <td>245455</td>\n",
       "      <td>776</td>\n",
       "      <td>NaN</td>\n",
       "      <td>NaN</td>\n",
       "      <td>NaN</td>\n",
       "      <td>NaN</td>\n",
       "      <td>NaN</td>\n",
       "      <td>NaN</td>\n",
       "      <td>13569</td>\n",
       "      <td>3749</td>\n",
       "      <td>5</td>\n",
       "      <td>14</td>\n",
       "      <td>10</td>\n",
       "    </tr>\n",
       "    <tr>\n",
       "      <th>top</th>\n",
       "      <td>15edce943edd</td>\n",
       "      <td>2017-01-01</td>\n",
       "      <td>NaN</td>\n",
       "      <td>NaN</td>\n",
       "      <td>NaN</td>\n",
       "      <td>NaN</td>\n",
       "      <td>NaN</td>\n",
       "      <td>NaN</td>\n",
       "      <td>37623498</td>\n",
       "      <td>10346</td>\n",
       "      <td>1619</td>\n",
       "      <td>29463</td>\n",
       "      <td>4356</td>\n",
       "    </tr>\n",
       "    <tr>\n",
       "      <th>freq</th>\n",
       "      <td>386</td>\n",
       "      <td>4230</td>\n",
       "      <td>NaN</td>\n",
       "      <td>NaN</td>\n",
       "      <td>NaN</td>\n",
       "      <td>NaN</td>\n",
       "      <td>NaN</td>\n",
       "      <td>NaN</td>\n",
       "      <td>1317</td>\n",
       "      <td>86654</td>\n",
       "      <td>476600</td>\n",
       "      <td>241523</td>\n",
       "      <td>341734</td>\n",
       "    </tr>\n",
       "    <tr>\n",
       "      <th>mean</th>\n",
       "      <td>NaN</td>\n",
       "      <td>NaN</td>\n",
       "      <td>17.588796</td>\n",
       "      <td>9.436810</td>\n",
       "      <td>0.031486</td>\n",
       "      <td>0.091489</td>\n",
       "      <td>0.18118</td>\n",
       "      <td>10.183271</td>\n",
       "      <td>NaN</td>\n",
       "      <td>NaN</td>\n",
       "      <td>NaN</td>\n",
       "      <td>NaN</td>\n",
       "      <td>NaN</td>\n",
       "    </tr>\n",
       "    <tr>\n",
       "      <th>std</th>\n",
       "      <td>NaN</td>\n",
       "      <td>NaN</td>\n",
       "      <td>3.357192</td>\n",
       "      <td>17.772322</td>\n",
       "      <td>0.174628</td>\n",
       "      <td>0.479558</td>\n",
       "      <td>0.36971</td>\n",
       "      <td>5.618121</td>\n",
       "      <td>NaN</td>\n",
       "      <td>NaN</td>\n",
       "      <td>NaN</td>\n",
       "      <td>NaN</td>\n",
       "      <td>NaN</td>\n",
       "    </tr>\n",
       "    <tr>\n",
       "      <th>min</th>\n",
       "      <td>NaN</td>\n",
       "      <td>NaN</td>\n",
       "      <td>0.000000</td>\n",
       "      <td>1.000000</td>\n",
       "      <td>0.000000</td>\n",
       "      <td>0.000000</td>\n",
       "      <td>0.00000</td>\n",
       "      <td>0.000000</td>\n",
       "      <td>NaN</td>\n",
       "      <td>NaN</td>\n",
       "      <td>NaN</td>\n",
       "      <td>NaN</td>\n",
       "      <td>NaN</td>\n",
       "    </tr>\n",
       "    <tr>\n",
       "      <th>25%</th>\n",
       "      <td>NaN</td>\n",
       "      <td>NaN</td>\n",
       "      <td>16.000000</td>\n",
       "      <td>1.000000</td>\n",
       "      <td>0.000000</td>\n",
       "      <td>0.000000</td>\n",
       "      <td>0.00000</td>\n",
       "      <td>6.648120</td>\n",
       "      <td>NaN</td>\n",
       "      <td>NaN</td>\n",
       "      <td>NaN</td>\n",
       "      <td>NaN</td>\n",
       "      <td>NaN</td>\n",
       "    </tr>\n",
       "    <tr>\n",
       "      <th>50%</th>\n",
       "      <td>NaN</td>\n",
       "      <td>NaN</td>\n",
       "      <td>18.000000</td>\n",
       "      <td>3.000000</td>\n",
       "      <td>0.000000</td>\n",
       "      <td>0.000000</td>\n",
       "      <td>0.00000</td>\n",
       "      <td>9.027000</td>\n",
       "      <td>NaN</td>\n",
       "      <td>NaN</td>\n",
       "      <td>NaN</td>\n",
       "      <td>NaN</td>\n",
       "      <td>NaN</td>\n",
       "    </tr>\n",
       "    <tr>\n",
       "      <th>75%</th>\n",
       "      <td>NaN</td>\n",
       "      <td>NaN</td>\n",
       "      <td>20.000000</td>\n",
       "      <td>10.000000</td>\n",
       "      <td>0.000000</td>\n",
       "      <td>0.000000</td>\n",
       "      <td>0.00000</td>\n",
       "      <td>12.213000</td>\n",
       "      <td>NaN</td>\n",
       "      <td>NaN</td>\n",
       "      <td>NaN</td>\n",
       "      <td>NaN</td>\n",
       "      <td>NaN</td>\n",
       "    </tr>\n",
       "    <tr>\n",
       "      <th>max</th>\n",
       "      <td>NaN</td>\n",
       "      <td>NaN</td>\n",
       "      <td>23.000000</td>\n",
       "      <td>369.000000</td>\n",
       "      <td>1.000000</td>\n",
       "      <td>93.398900</td>\n",
       "      <td>9.86000</td>\n",
       "      <td>1131.030000</td>\n",
       "      <td>NaN</td>\n",
       "      <td>NaN</td>\n",
       "      <td>NaN</td>\n",
       "      <td>NaN</td>\n",
       "      <td>NaN</td>\n",
       "    </tr>\n",
       "  </tbody>\n",
       "</table>\n",
       "</div>"
      ],
      "text/plain": [
       "         customer_id  order_date     order_hour  customer_order_rank  \\\n",
       "count         786600      786600  786600.000000        761833.000000   \n",
       "unique        245455         776            NaN                  NaN   \n",
       "top     15edce943edd  2017-01-01            NaN                  NaN   \n",
       "freq             386        4230            NaN                  NaN   \n",
       "mean             NaN         NaN      17.588796             9.436810   \n",
       "std              NaN         NaN       3.357192            17.772322   \n",
       "min              NaN         NaN       0.000000             1.000000   \n",
       "25%              NaN         NaN      16.000000             1.000000   \n",
       "50%              NaN         NaN      18.000000             3.000000   \n",
       "75%              NaN         NaN      20.000000            10.000000   \n",
       "max              NaN         NaN      23.000000           369.000000   \n",
       "\n",
       "            is_failed  voucher_amount  delivery_fee    amount_paid  \\\n",
       "count   786600.000000   786600.000000  786600.00000  786600.000000   \n",
       "unique            NaN             NaN           NaN            NaN   \n",
       "top               NaN             NaN           NaN            NaN   \n",
       "freq              NaN             NaN           NaN            NaN   \n",
       "mean         0.031486        0.091489       0.18118      10.183271   \n",
       "std          0.174628        0.479558       0.36971       5.618121   \n",
       "min          0.000000        0.000000       0.00000       0.000000   \n",
       "25%          0.000000        0.000000       0.00000       6.648120   \n",
       "50%          0.000000        0.000000       0.00000       9.027000   \n",
       "75%          0.000000        0.000000       0.00000      12.213000   \n",
       "max          1.000000       93.398900       9.86000    1131.030000   \n",
       "\n",
       "       restaurant_id city_id payment_id platform_id transmission_id  \n",
       "count         786600  786600     786600      786600          786600  \n",
       "unique         13569    3749          5          14              10  \n",
       "top         37623498   10346       1619       29463            4356  \n",
       "freq            1317   86654     476600      241523          341734  \n",
       "mean             NaN     NaN        NaN         NaN             NaN  \n",
       "std              NaN     NaN        NaN         NaN             NaN  \n",
       "min              NaN     NaN        NaN         NaN             NaN  \n",
       "25%              NaN     NaN        NaN         NaN             NaN  \n",
       "50%              NaN     NaN        NaN         NaN             NaN  \n",
       "75%              NaN     NaN        NaN         NaN             NaN  \n",
       "max              NaN     NaN        NaN         NaN             NaN  "
      ]
     },
     "execution_count": 152,
     "metadata": {},
     "output_type": "execute_result"
    }
   ],
   "source": [
    "df_order.describe(include='all')"
   ]
  },
  {
   "cell_type": "code",
   "execution_count": 153,
   "metadata": {},
   "outputs": [
    {
     "data": {
      "text/plain": [
       "<AxesSubplot:>"
      ]
     },
     "execution_count": 153,
     "metadata": {},
     "output_type": "execute_result"
    },
    {
     "data": {
      "image/png": "[encoded data removed]",
      "text/plain": [
       "<Figure size 432x288 with 1 Axes>"
      ]
     },
     "metadata": {
      "needs_background": "light"
     },
     "output_type": "display_data"
    }
   ],
   "source": [
    "df_order.order_hour.hist()"
   ]
  },
  {
   "cell_type": "code",
   "execution_count": 154,
   "metadata": {},
   "outputs": [
    {
     "data": {
      "text/plain": [
       "<AxesSubplot:ylabel='Frequency'>"
      ]
     },
     "execution_count": 154,
     "metadata": {},
     "output_type": "execute_result"
    },
    {
     "data": {
      "image/png": "[encoded data removed]",
      "text/plain": [
       "<Figure size 432x288 with 1 Axes>"
      ]
     },
     "metadata": {
      "needs_background": "light"
     },
     "output_type": "display_data"
    }
   ],
   "source": [
    "df_order.customer_order_rank.plot(kind='hist', bins=50, logy=True)\n",
    "# check if frequency is strongly correlated to returning"
   ]
  },
  {
   "cell_type": "code",
   "execution_count": 155,
   "metadata": {},
   "outputs": [
    {
     "data": {
      "text/html": [
       "<div>\n",
       "<style scoped>\n",
       "    .dataframe tbody tr th:only-of-type {\n",
       "        vertical-align: middle;\n",
       "    }\n",
       "\n",
       "    .dataframe tbody tr th {\n",
       "        vertical-align: top;\n",
       "    }\n",
       "\n",
       "    .dataframe thead th {\n",
       "        text-align: right;\n",
       "    }\n",
       "</style>\n",
       "<table border=\"1\" class=\"dataframe\">\n",
       "  <thead>\n",
       "    <tr style=\"text-align: right;\">\n",
       "      <th></th>\n",
       "      <th>amount_paid_median</th>\n",
       "      <th>amount_paid_count</th>\n",
       "    </tr>\n",
       "    <tr>\n",
       "      <th>restaurant_id</th>\n",
       "      <th></th>\n",
       "      <th></th>\n",
       "    </tr>\n",
       "  </thead>\n",
       "  <tbody>\n",
       "    <tr>\n",
       "      <th>100053498</th>\n",
       "      <td>13.00950</td>\n",
       "      <td>7</td>\n",
       "    </tr>\n",
       "    <tr>\n",
       "      <th>100063498</th>\n",
       "      <td>8.38980</td>\n",
       "      <td>163</td>\n",
       "    </tr>\n",
       "    <tr>\n",
       "      <th>100073498</th>\n",
       "      <td>13.06260</td>\n",
       "      <td>170</td>\n",
       "    </tr>\n",
       "    <tr>\n",
       "      <th>100103498</th>\n",
       "      <td>7.38090</td>\n",
       "      <td>205</td>\n",
       "    </tr>\n",
       "    <tr>\n",
       "      <th>100163498</th>\n",
       "      <td>13.14225</td>\n",
       "      <td>34</td>\n",
       "    </tr>\n",
       "    <tr>\n",
       "      <th>...</th>\n",
       "      <td>...</td>\n",
       "      <td>...</td>\n",
       "    </tr>\n",
       "    <tr>\n",
       "      <th>99773498</th>\n",
       "      <td>15.77070</td>\n",
       "      <td>5</td>\n",
       "    </tr>\n",
       "    <tr>\n",
       "      <th>99803498</th>\n",
       "      <td>15.94593</td>\n",
       "      <td>3</td>\n",
       "    </tr>\n",
       "    <tr>\n",
       "      <th>99833498</th>\n",
       "      <td>9.71730</td>\n",
       "      <td>181</td>\n",
       "    </tr>\n",
       "    <tr>\n",
       "      <th>99843498</th>\n",
       "      <td>7.96500</td>\n",
       "      <td>128</td>\n",
       "    </tr>\n",
       "    <tr>\n",
       "      <th>99993498</th>\n",
       "      <td>9.29250</td>\n",
       "      <td>85</td>\n",
       "    </tr>\n",
       "  </tbody>\n",
       "</table>\n",
       "<p>13569 rows × 2 columns</p>\n",
       "</div>"
      ],
      "text/plain": [
       "               amount_paid_median  amount_paid_count\n",
       "restaurant_id                                       \n",
       "100053498                13.00950                  7\n",
       "100063498                 8.38980                163\n",
       "100073498                13.06260                170\n",
       "100103498                 7.38090                205\n",
       "100163498                13.14225                 34\n",
       "...                           ...                ...\n",
       "99773498                 15.77070                  5\n",
       "99803498                 15.94593                  3\n",
       "99833498                  9.71730                181\n",
       "99843498                  7.96500                128\n",
       "99993498                  9.29250                 85\n",
       "\n",
       "[13569 rows x 2 columns]"
      ]
     },
     "execution_count": 155,
     "metadata": {},
     "output_type": "execute_result"
    }
   ],
   "source": [
    "res_prop = df_order.groupby('restaurant_id').agg({'amount_paid':['median', 'count']})\n",
    "res_prop.columns = ['_'.join(col) for col in res_prop.columns.values]\n",
    "res_prop"
   ]
  },
  {
   "cell_type": "code",
   "execution_count": 156,
   "metadata": {},
   "outputs": [
    {
     "data": {
      "image/png": "[encoded data removed]",
      "text/plain": [
       "<Figure size 432x432 with 3 Axes>"
      ]
     },
     "metadata": {
      "needs_background": "light"
     },
     "output_type": "display_data"
    }
   ],
   "source": [
    "g = sns.jointplot(x=\"amount_paid_median\", y=\"amount_paid_count\", data=res_prop[res_prop.amount_paid_count>=3],\n",
    "                  kind=\"reg\", truncate=False,\n",
    "                  joint_kws = {'scatter_kws':dict(alpha=0.2)})\n",
    "g.ax_joint.set_yscale('log')"
   ]
  },
  {
   "cell_type": "code",
   "execution_count": null,
   "metadata": {},
   "outputs": [],
   "source": []
  },
  {
   "cell_type": "code",
   "execution_count": 157,
   "metadata": {},
   "outputs": [],
   "source": [
    "# sns.pairplot(df_order[['order_hour', 'customer_order_rank', 'is_failed', 'voucher_amount', \n",
    "#                        'delivery_fee', 'amount_paid']].sample(frac=0.1, random_state=12), \n",
    "#              plot_kws={'alpha':0.1})"
   ]
  },
  {
   "cell_type": "code",
   "execution_count": 158,
   "metadata": {},
   "outputs": [
    {
     "data": {
      "text/plain": [
       "<AxesSubplot:title={'center':'Order trend'}, xlabel='order_date'>"
      ]
     },
     "execution_count": 158,
     "metadata": {},
     "output_type": "execute_result"
    },
    {
     "data": {
      "image/png": "[encoded data removed]",
      "text/plain": [
       "<Figure size 864x360 with 1 Axes>"
      ]
     },
     "metadata": {
      "needs_background": "light"
     },
     "output_type": "display_data"
    }
   ],
   "source": [
    "dfs = df_order.groupby('order_date')['customer_id'].count()\n",
    "dfs.index = pd.to_datetime(dfs.index)\n",
    "dfs.plot(title='Order trend', figsize=(12,5))"
   ]
  },
  {
   "cell_type": "code",
   "execution_count": 159,
   "metadata": {},
   "outputs": [
    {
     "data": {
      "text/plain": [
       "order_date\n",
       "2013-10-31      2\n",
       "2014-05-11      2\n",
       "2014-12-28      2\n",
       "2015-02-06      3\n",
       "2015-02-17      3\n",
       "2015-03-01    762\n",
       "2015-03-02    221\n",
       "2015-03-03    199\n",
       "2015-03-04    228\n",
       "2015-03-05    228\n",
       "Name: customer_id, dtype: int64"
      ]
     },
     "execution_count": 159,
     "metadata": {},
     "output_type": "execute_result"
    }
   ],
   "source": [
    "dfs[dfs > 1].sort_index().head(10)"
   ]
  },
  {
   "cell_type": "markdown",
   "metadata": {},
   "source": [
    "It seems like we can safetly remove the minor transactions before 2015-03-01 and keep the rest of transactions."
   ]
  },
  {
   "cell_type": "code",
   "execution_count": 160,
   "metadata": {},
   "outputs": [
    {
     "data": {
      "text/plain": [
       "(786547, 13)"
      ]
     },
     "execution_count": 160,
     "metadata": {},
     "output_type": "execute_result"
    }
   ],
   "source": [
    "df_order = df_order[df_order.order_date >= '2015-03-01'].reset_index(drop=True)\n",
    "df_order.shape"
   ]
  },
  {
   "cell_type": "markdown",
   "metadata": {},
   "source": [
    "Now we look at the `df_label` dataframe."
   ]
  },
  {
   "cell_type": "code",
   "execution_count": 161,
   "metadata": {},
   "outputs": [
    {
     "data": {
      "text/html": [
       "<div>\n",
       "<style scoped>\n",
       "    .dataframe tbody tr th:only-of-type {\n",
       "        vertical-align: middle;\n",
       "    }\n",
       "\n",
       "    .dataframe tbody tr th {\n",
       "        vertical-align: top;\n",
       "    }\n",
       "\n",
       "    .dataframe thead th {\n",
       "        text-align: right;\n",
       "    }\n",
       "</style>\n",
       "<table border=\"1\" class=\"dataframe\">\n",
       "  <thead>\n",
       "    <tr style=\"text-align: right;\">\n",
       "      <th></th>\n",
       "      <th>customer_id</th>\n",
       "      <th>is_returning_customer</th>\n",
       "    </tr>\n",
       "  </thead>\n",
       "  <tbody>\n",
       "    <tr>\n",
       "      <th>0</th>\n",
       "      <td>000097eabfd9</td>\n",
       "      <td>0</td>\n",
       "    </tr>\n",
       "    <tr>\n",
       "      <th>1</th>\n",
       "      <td>0000e2c6d9be</td>\n",
       "      <td>0</td>\n",
       "    </tr>\n",
       "    <tr>\n",
       "      <th>2</th>\n",
       "      <td>000133bb597f</td>\n",
       "      <td>1</td>\n",
       "    </tr>\n",
       "    <tr>\n",
       "      <th>3</th>\n",
       "      <td>00018269939b</td>\n",
       "      <td>0</td>\n",
       "    </tr>\n",
       "    <tr>\n",
       "      <th>4</th>\n",
       "      <td>0001a00468a6</td>\n",
       "      <td>0</td>\n",
       "    </tr>\n",
       "  </tbody>\n",
       "</table>\n",
       "</div>"
      ],
      "text/plain": [
       "    customer_id  is_returning_customer\n",
       "0  000097eabfd9                      0\n",
       "1  0000e2c6d9be                      0\n",
       "2  000133bb597f                      1\n",
       "3  00018269939b                      0\n",
       "4  0001a00468a6                      0"
      ]
     },
     "execution_count": 161,
     "metadata": {},
     "output_type": "execute_result"
    }
   ],
   "source": [
    "df_label.head()"
   ]
  },
  {
   "cell_type": "code",
   "execution_count": 162,
   "metadata": {},
   "outputs": [
    {
     "data": {
      "text/plain": [
       "0    189948\n",
       "1     55507\n",
       "Name: is_returning_customer, dtype: int64"
      ]
     },
     "execution_count": 162,
     "metadata": {},
     "output_type": "execute_result"
    }
   ],
   "source": [
    "df_label.is_returning_customer.value_counts()"
   ]
  },
  {
   "cell_type": "markdown",
   "metadata": {},
   "source": [
    "### Feature Engineering"
   ]
  },
  {
   "cell_type": "markdown",
   "metadata": {},
   "source": [
    "Derivation of the following features can be done\n",
    "\n",
    "- Transaction patterns (FRM): frequency (amount of orders completed per month in the last 12 months, per week in the last 12 weeks), recency (number of days since last order, latest customer_order_rank), monetary (median and total of voucher_amount/delivery_fee/amount_paid in the past)\n",
    "- Transaction behaviors (weekday preference in terms of %)\n",
    "- Restaurant orientations (variety of ordered restaurants)"
   ]
  },
  {
   "cell_type": "code",
   "execution_count": 163,
   "metadata": {},
   "outputs": [
    {
     "data": {
      "text/plain": [
       "('2015-03-01', '2017-02-27')"
      ]
     },
     "execution_count": 163,
     "metadata": {},
     "output_type": "execute_result"
    }
   ],
   "source": [
    "df_order.order_date.min(), df_order.order_date.max()"
   ]
  },
  {
   "cell_type": "code",
   "execution_count": 164,
   "metadata": {},
   "outputs": [
    {
     "data": {
      "text/plain": [
       "0    761786\n",
       "1     24761\n",
       "Name: is_failed, dtype: int64"
      ]
     },
     "execution_count": 164,
     "metadata": {},
     "output_type": "execute_result"
    }
   ],
   "source": [
    "df_order.is_failed.value_counts()"
   ]
  },
  {
   "cell_type": "code",
   "execution_count": 165,
   "metadata": {},
   "outputs": [],
   "source": [
    "months = sorted(df_order.order_date.apply(lambda s: s[0:7]).unique().tolist())"
   ]
  },
  {
   "cell_type": "code",
   "execution_count": 166,
   "metadata": {},
   "outputs": [
    {
     "data": {
      "text/plain": [
       "((786547, 13), 245453)"
      ]
     },
     "execution_count": 166,
     "metadata": {},
     "output_type": "execute_result"
    }
   ],
   "source": [
    "i = len(months) - 1\n",
    "cur = months[i]\n",
    "start = months[i-23]\n",
    "df = df_order[df_order.order_date > start].reset_index(drop=True)\n",
    "df.shape, len(df.customer_id.unique())"
   ]
  },
  {
   "cell_type": "markdown",
   "metadata": {},
   "source": [
    "#### 1. Transaction patterns"
   ]
  },
  {
   "cell_type": "code",
   "execution_count": 167,
   "metadata": {},
   "outputs": [],
   "source": [
    "df['year_month'] = df.order_date.apply(lambda x: x[0:7])\n",
    "df['week_in_month'] = df.order_date.apply(lambda x: \n",
    "    'W1' if x[8:10] <= '07' \n",
    "    else('W2' if x[8:10] <= '14' \n",
    "    else ('W3' if x[8:10] <= '21' \n",
    "    else 'W4')))\n",
    "df['weekday'] = pd.to_datetime(df.order_date).apply(lambda x: calendar.day_name[x.weekday()])"
   ]
  },
  {
   "cell_type": "markdown",
   "metadata": {},
   "source": [
    "Since most of the months have more than 28 days, it is expected to see Week 4 (W4) to have more transactions."
   ]
  },
  {
   "cell_type": "code",
   "execution_count": 168,
   "metadata": {},
   "outputs": [
    {
     "data": {
      "text/plain": [
       "(2015-03    12379\n",
       " 2015-04    13256\n",
       " 2015-05    20195\n",
       " 2015-06    15964\n",
       " 2015-07    19668\n",
       " 2015-08    22130\n",
       " 2015-09    22785\n",
       " 2015-10    25970\n",
       " 2015-11    28211\n",
       " 2015-12    29375\n",
       " 2016-01    35983\n",
       " 2016-02    32861\n",
       " 2016-03    34512\n",
       " 2016-04    33158\n",
       " 2016-05    35976\n",
       " 2016-06    35764\n",
       " 2016-07    39026\n",
       " 2016-08    37124\n",
       " 2016-09    37641\n",
       " 2016-10    47610\n",
       " 2016-11    47129\n",
       " 2016-12    52190\n",
       " 2017-01    57021\n",
       " 2017-02    50619\n",
       " Name: year_month, dtype: int64, W4    246470\n",
       " W1    188154\n",
       " W3    178389\n",
       " W2    173534\n",
       " Name: week_in_month, dtype: int64, Sunday       196575\n",
       " Saturday     119876\n",
       " Friday       118636\n",
       " Thursday      91250\n",
       " Monday        88390\n",
       " Wednesday     86326\n",
       " Tuesday       85494\n",
       " Name: weekday, dtype: int64)"
      ]
     },
     "execution_count": 168,
     "metadata": {},
     "output_type": "execute_result"
    }
   ],
   "source": [
    "df['year_month'].value_counts().sort_index(), df.week_in_month.value_counts(), df.weekday.value_counts()"
   ]
  },
  {
   "cell_type": "markdown",
   "metadata": {},
   "source": [
    "It is no surprise that customers tend to order more on Friday, Saturday and especially Sunday."
   ]
  },
  {
   "cell_type": "code",
   "execution_count": 169,
   "metadata": {},
   "outputs": [
    {
     "data": {
      "text/plain": [
       "{'2015-03': 'M-24',\n",
       " '2015-04': 'M-23',\n",
       " '2015-05': 'M-22',\n",
       " '2015-06': 'M-21',\n",
       " '2015-07': 'M-20',\n",
       " '2015-08': 'M-19',\n",
       " '2015-09': 'M-18',\n",
       " '2015-10': 'M-17',\n",
       " '2015-11': 'M-16',\n",
       " '2015-12': 'M-15',\n",
       " '2016-01': 'M-14',\n",
       " '2016-02': 'M-13',\n",
       " '2016-03': 'M-12',\n",
       " '2016-04': 'M-11',\n",
       " '2016-05': 'M-10',\n",
       " '2016-06': 'M-9',\n",
       " '2016-07': 'M-8',\n",
       " '2016-08': 'M-7',\n",
       " '2016-09': 'M-6',\n",
       " '2016-10': 'M-5',\n",
       " '2016-11': 'M-4',\n",
       " '2016-12': 'M-3',\n",
       " '2017-01': 'M-2',\n",
       " '2017-02': 'M-1'}"
      ]
     },
     "execution_count": 169,
     "metadata": {},
     "output_type": "execute_result"
    }
   ],
   "source": [
    "month_dict = {months[j]:'M-'+str(i-j+1) for j in range(i-23, i+1)}\n",
    "month_dict"
   ]
  },
  {
   "cell_type": "code",
   "execution_count": 170,
   "metadata": {},
   "outputs": [
    {
     "data": {
      "text/html": [
       "<div>\n",
       "<style scoped>\n",
       "    .dataframe tbody tr th:only-of-type {\n",
       "        vertical-align: middle;\n",
       "    }\n",
       "\n",
       "    .dataframe tbody tr th {\n",
       "        vertical-align: top;\n",
       "    }\n",
       "\n",
       "    .dataframe thead th {\n",
       "        text-align: right;\n",
       "    }\n",
       "</style>\n",
       "<table border=\"1\" class=\"dataframe\">\n",
       "  <thead>\n",
       "    <tr style=\"text-align: right;\">\n",
       "      <th></th>\n",
       "      <th>customer_id</th>\n",
       "      <th>year_month</th>\n",
       "      <th>numOfOrders</th>\n",
       "    </tr>\n",
       "  </thead>\n",
       "  <tbody>\n",
       "    <tr>\n",
       "      <th>0</th>\n",
       "      <td>000097eabfd9</td>\n",
       "      <td>2015-06</td>\n",
       "      <td>1</td>\n",
       "    </tr>\n",
       "    <tr>\n",
       "      <th>1</th>\n",
       "      <td>0000e2c6d9be</td>\n",
       "      <td>2016-01</td>\n",
       "      <td>1</td>\n",
       "    </tr>\n",
       "    <tr>\n",
       "      <th>2</th>\n",
       "      <td>000133bb597f</td>\n",
       "      <td>2017-02</td>\n",
       "      <td>1</td>\n",
       "    </tr>\n",
       "    <tr>\n",
       "      <th>3</th>\n",
       "      <td>00018269939b</td>\n",
       "      <td>2017-02</td>\n",
       "      <td>1</td>\n",
       "    </tr>\n",
       "    <tr>\n",
       "      <th>4</th>\n",
       "      <td>0001a00468a6</td>\n",
       "      <td>2015-08</td>\n",
       "      <td>1</td>\n",
       "    </tr>\n",
       "    <tr>\n",
       "      <th>...</th>\n",
       "      <td>...</td>\n",
       "      <td>...</td>\n",
       "      <td>...</td>\n",
       "    </tr>\n",
       "    <tr>\n",
       "      <th>511711</th>\n",
       "      <td>fffe9d5a8d41</td>\n",
       "      <td>2016-09</td>\n",
       "      <td>1</td>\n",
       "    </tr>\n",
       "    <tr>\n",
       "      <th>511712</th>\n",
       "      <td>ffff347c3cfa</td>\n",
       "      <td>2016-08</td>\n",
       "      <td>1</td>\n",
       "    </tr>\n",
       "    <tr>\n",
       "      <th>511713</th>\n",
       "      <td>ffff347c3cfa</td>\n",
       "      <td>2016-09</td>\n",
       "      <td>1</td>\n",
       "    </tr>\n",
       "    <tr>\n",
       "      <th>511714</th>\n",
       "      <td>ffff4519b52d</td>\n",
       "      <td>2016-04</td>\n",
       "      <td>1</td>\n",
       "    </tr>\n",
       "    <tr>\n",
       "      <th>511715</th>\n",
       "      <td>ffffccbfc8a4</td>\n",
       "      <td>2015-05</td>\n",
       "      <td>1</td>\n",
       "    </tr>\n",
       "  </tbody>\n",
       "</table>\n",
       "<p>511716 rows × 3 columns</p>\n",
       "</div>"
      ],
      "text/plain": [
       "         customer_id year_month  numOfOrders\n",
       "0       000097eabfd9    2015-06            1\n",
       "1       0000e2c6d9be    2016-01            1\n",
       "2       000133bb597f    2017-02            1\n",
       "3       00018269939b    2017-02            1\n",
       "4       0001a00468a6    2015-08            1\n",
       "...              ...        ...          ...\n",
       "511711  fffe9d5a8d41    2016-09            1\n",
       "511712  ffff347c3cfa    2016-08            1\n",
       "511713  ffff347c3cfa    2016-09            1\n",
       "511714  ffff4519b52d    2016-04            1\n",
       "511715  ffffccbfc8a4    2015-05            1\n",
       "\n",
       "[511716 rows x 3 columns]"
      ]
     },
     "execution_count": 170,
     "metadata": {},
     "output_type": "execute_result"
    }
   ],
   "source": [
    "# Frequency at month level\n",
    "df['is_succeeded'] = df.is_failed.apply(lambda x: 1-x)\n",
    "\n",
    "df_freq_m = df.groupby(['customer_id', 'year_month'])['is_succeeded']\\\n",
    "    .agg('sum').reset_index(name='numOfOrders')\n",
    "# df_freq_m['year_month'] = df_freq_m.year_month.apply(lambda s: month_dict[s]) \n",
    "# df_freq_m = pd.pivot_table(df_freq_m, index=['customer_id'], columns=['year_month'], \n",
    "#         values=['numOfOrders'], aggfunc=np.mean)\n",
    "# df_freq_m.columns = ['_'.join(col) for col in df_freq_m.columns.values]\n",
    "# df_freq_m = df_freq_m.reset_index().fillna(0)\n",
    "df_freq_m"
   ]
  },
  {
   "cell_type": "code",
   "execution_count": 190,
   "metadata": {},
   "outputs": [],
   "source": [
    "df_freq_m.to_csv('processed_data/df_freq_m.csv', index=False)"
   ]
  },
  {
   "cell_type": "code",
   "execution_count": 171,
   "metadata": {},
   "outputs": [],
   "source": [
    "# Frequency at week level for last 12 weeks\n",
    "# df['year_month_week'] = df.year_month.apply(lambda s: month_dict[s])  + '_' + df.week_in_month\n",
    "# df_freq_w = df.groupby(['customer_id', 'year_month_week'])['is_succeeded']\\\n",
    "#     .agg('sum').reset_index(name='numOfOrders')\n",
    "# df_freq_w = pd.pivot_table(df_freq_w, index=['customer_id'], columns=['year_month_week'], \n",
    "#         values=['numOfOrders'], aggfunc=np.mean)\n",
    "# df_freq_w.columns = ['_'.join(col) for col in df_freq_w.columns.values]\n",
    "# df_freq_w = df_freq_w.reset_index().fillna(0)\n",
    "# weeks_in_last_3months = [s for s in df_freq_w.columns if ('M-1_' in s) or ('M-2_' in s) or ('M-3_' in s)]\n",
    "# df_freq_w = df_freq_w[['customer_id'] + weeks_in_last_3months]\n",
    "# df_freq_w"
   ]
  },
  {
   "cell_type": "code",
   "execution_count": 172,
   "metadata": {},
   "outputs": [
    {
     "data": {
      "text/html": [
       "<div>\n",
       "<style scoped>\n",
       "    .dataframe tbody tr th:only-of-type {\n",
       "        vertical-align: middle;\n",
       "    }\n",
       "\n",
       "    .dataframe tbody tr th {\n",
       "        vertical-align: top;\n",
       "    }\n",
       "\n",
       "    .dataframe thead th {\n",
       "        text-align: right;\n",
       "    }\n",
       "</style>\n",
       "<table border=\"1\" class=\"dataframe\">\n",
       "  <thead>\n",
       "    <tr style=\"text-align: right;\">\n",
       "      <th></th>\n",
       "      <th>customer_id</th>\n",
       "      <th>last_order_in_days_failed</th>\n",
       "      <th>last_order_in_days_succeeded</th>\n",
       "    </tr>\n",
       "  </thead>\n",
       "  <tbody>\n",
       "    <tr>\n",
       "      <th>0</th>\n",
       "      <td>000097eabfd9</td>\n",
       "      <td>365.0</td>\n",
       "      <td>620.0</td>\n",
       "    </tr>\n",
       "    <tr>\n",
       "      <th>1</th>\n",
       "      <td>0000e2c6d9be</td>\n",
       "      <td>365.0</td>\n",
       "      <td>397.0</td>\n",
       "    </tr>\n",
       "    <tr>\n",
       "      <th>2</th>\n",
       "      <td>000133bb597f</td>\n",
       "      <td>365.0</td>\n",
       "      <td>3.0</td>\n",
       "    </tr>\n",
       "    <tr>\n",
       "      <th>3</th>\n",
       "      <td>00018269939b</td>\n",
       "      <td>365.0</td>\n",
       "      <td>24.0</td>\n",
       "    </tr>\n",
       "    <tr>\n",
       "      <th>4</th>\n",
       "      <td>0001a00468a6</td>\n",
       "      <td>365.0</td>\n",
       "      <td>575.0</td>\n",
       "    </tr>\n",
       "    <tr>\n",
       "      <th>...</th>\n",
       "      <td>...</td>\n",
       "      <td>...</td>\n",
       "      <td>...</td>\n",
       "    </tr>\n",
       "    <tr>\n",
       "      <th>245448</th>\n",
       "      <td>fffd696eaedd</td>\n",
       "      <td>365.0</td>\n",
       "      <td>534.0</td>\n",
       "    </tr>\n",
       "    <tr>\n",
       "      <th>245449</th>\n",
       "      <td>fffe9d5a8d41</td>\n",
       "      <td>152.0</td>\n",
       "      <td>152.0</td>\n",
       "    </tr>\n",
       "    <tr>\n",
       "      <th>245450</th>\n",
       "      <td>ffff347c3cfa</td>\n",
       "      <td>365.0</td>\n",
       "      <td>167.0</td>\n",
       "    </tr>\n",
       "    <tr>\n",
       "      <th>245451</th>\n",
       "      <td>ffff4519b52d</td>\n",
       "      <td>365.0</td>\n",
       "      <td>333.0</td>\n",
       "    </tr>\n",
       "    <tr>\n",
       "      <th>245452</th>\n",
       "      <td>ffffccbfc8a4</td>\n",
       "      <td>365.0</td>\n",
       "      <td>641.0</td>\n",
       "    </tr>\n",
       "  </tbody>\n",
       "</table>\n",
       "<p>245453 rows × 3 columns</p>\n",
       "</div>"
      ],
      "text/plain": [
       "         customer_id  last_order_in_days_failed  last_order_in_days_succeeded\n",
       "0       000097eabfd9                      365.0                         620.0\n",
       "1       0000e2c6d9be                      365.0                         397.0\n",
       "2       000133bb597f                      365.0                           3.0\n",
       "3       00018269939b                      365.0                          24.0\n",
       "4       0001a00468a6                      365.0                         575.0\n",
       "...              ...                        ...                           ...\n",
       "245448  fffd696eaedd                      365.0                         534.0\n",
       "245449  fffe9d5a8d41                      152.0                         152.0\n",
       "245450  ffff347c3cfa                      365.0                         167.0\n",
       "245451  ffff4519b52d                      365.0                         333.0\n",
       "245452  ffffccbfc8a4                      365.0                         641.0\n",
       "\n",
       "[245453 rows x 3 columns]"
      ]
     },
     "execution_count": 172,
     "metadata": {},
     "output_type": "execute_result"
    }
   ],
   "source": [
    "# Recency\n",
    "current_date = pd.to_datetime(cur) + relativedelta(months=1)\n",
    "maxday_gap = 365\n",
    "\n",
    "df_rcc = (df[['customer_id', 'is_failed', 'order_date']]\n",
    "    .sort_values(['customer_id', 'is_failed', 'order_date'], ascending=True)\n",
    "    .drop_duplicates(['customer_id', 'is_failed'], keep='last'))\n",
    "df_rcc['is_failed'] = df_rcc.is_failed.apply(lambda x: 'failed' if x==1 else 'succeeded')\n",
    "df_rcc['last_order_in_days'] = df_rcc.order_date.apply(lambda d:\n",
    "    (current_date - pd.to_datetime(d)).days)\n",
    "df_rcc = pd.pivot_table(df_rcc, index=['customer_id'], columns=['is_failed'], \n",
    "        values=['last_order_in_days'], aggfunc=np.mean)\n",
    "df_rcc.columns = ['_'.join(col) for col in df_rcc.columns.values]\n",
    "df_rcc = df_rcc.reset_index()\n",
    "df_rcc.fillna(value=maxday_gap, inplace=True)\n",
    "df_rcc"
   ]
  },
  {
   "cell_type": "code",
   "execution_count": 191,
   "metadata": {},
   "outputs": [],
   "source": [
    "df_rcc.to_csv('processed_data/df_rcc.csv', index=False)"
   ]
  },
  {
   "cell_type": "code",
   "execution_count": 173,
   "metadata": {},
   "outputs": [
    {
     "data": {
      "text/html": [
       "<div>\n",
       "<style scoped>\n",
       "    .dataframe tbody tr th:only-of-type {\n",
       "        vertical-align: middle;\n",
       "    }\n",
       "\n",
       "    .dataframe tbody tr th {\n",
       "        vertical-align: top;\n",
       "    }\n",
       "\n",
       "    .dataframe thead th {\n",
       "        text-align: right;\n",
       "    }\n",
       "</style>\n",
       "<table border=\"1\" class=\"dataframe\">\n",
       "  <thead>\n",
       "    <tr style=\"text-align: right;\">\n",
       "      <th></th>\n",
       "      <th>customer_id_</th>\n",
       "      <th>voucher_amount_sum</th>\n",
       "      <th>voucher_amount_median</th>\n",
       "      <th>delivery_fee_sum</th>\n",
       "      <th>delivery_fee_median</th>\n",
       "      <th>amount_paid_sum</th>\n",
       "      <th>amount_paid_median</th>\n",
       "    </tr>\n",
       "  </thead>\n",
       "  <tbody>\n",
       "    <tr>\n",
       "      <th>0</th>\n",
       "      <td>000097eabfd9</td>\n",
       "      <td>0.0</td>\n",
       "      <td>0.0</td>\n",
       "      <td>0.0000</td>\n",
       "      <td>0.0000</td>\n",
       "      <td>11.46960</td>\n",
       "      <td>11.46960</td>\n",
       "    </tr>\n",
       "    <tr>\n",
       "      <th>1</th>\n",
       "      <td>0000e2c6d9be</td>\n",
       "      <td>0.0</td>\n",
       "      <td>0.0</td>\n",
       "      <td>0.0000</td>\n",
       "      <td>0.0000</td>\n",
       "      <td>9.55800</td>\n",
       "      <td>9.55800</td>\n",
       "    </tr>\n",
       "    <tr>\n",
       "      <th>2</th>\n",
       "      <td>000133bb597f</td>\n",
       "      <td>0.0</td>\n",
       "      <td>0.0</td>\n",
       "      <td>0.4930</td>\n",
       "      <td>0.4930</td>\n",
       "      <td>5.93658</td>\n",
       "      <td>5.93658</td>\n",
       "    </tr>\n",
       "    <tr>\n",
       "      <th>3</th>\n",
       "      <td>00018269939b</td>\n",
       "      <td>0.0</td>\n",
       "      <td>0.0</td>\n",
       "      <td>0.4930</td>\n",
       "      <td>0.4930</td>\n",
       "      <td>9.82350</td>\n",
       "      <td>9.82350</td>\n",
       "    </tr>\n",
       "    <tr>\n",
       "      <th>4</th>\n",
       "      <td>0001a00468a6</td>\n",
       "      <td>0.0</td>\n",
       "      <td>0.0</td>\n",
       "      <td>0.4930</td>\n",
       "      <td>0.4930</td>\n",
       "      <td>5.15070</td>\n",
       "      <td>5.15070</td>\n",
       "    </tr>\n",
       "    <tr>\n",
       "      <th>...</th>\n",
       "      <td>...</td>\n",
       "      <td>...</td>\n",
       "      <td>...</td>\n",
       "      <td>...</td>\n",
       "      <td>...</td>\n",
       "      <td>...</td>\n",
       "      <td>...</td>\n",
       "    </tr>\n",
       "    <tr>\n",
       "      <th>245448</th>\n",
       "      <td>fffd696eaedd</td>\n",
       "      <td>0.0</td>\n",
       "      <td>0.0</td>\n",
       "      <td>1.4297</td>\n",
       "      <td>1.4297</td>\n",
       "      <td>24.13395</td>\n",
       "      <td>24.13395</td>\n",
       "    </tr>\n",
       "    <tr>\n",
       "      <th>245449</th>\n",
       "      <td>fffe9d5a8d41</td>\n",
       "      <td>0.0</td>\n",
       "      <td>0.0</td>\n",
       "      <td>0.0000</td>\n",
       "      <td>0.0000</td>\n",
       "      <td>29.89530</td>\n",
       "      <td>10.72620</td>\n",
       "    </tr>\n",
       "    <tr>\n",
       "      <th>245450</th>\n",
       "      <td>ffff347c3cfa</td>\n",
       "      <td>0.0</td>\n",
       "      <td>0.0</td>\n",
       "      <td>0.0000</td>\n",
       "      <td>0.0000</td>\n",
       "      <td>13.54050</td>\n",
       "      <td>6.77025</td>\n",
       "    </tr>\n",
       "    <tr>\n",
       "      <th>245451</th>\n",
       "      <td>ffff4519b52d</td>\n",
       "      <td>0.0</td>\n",
       "      <td>0.0</td>\n",
       "      <td>0.0000</td>\n",
       "      <td>0.0000</td>\n",
       "      <td>21.77100</td>\n",
       "      <td>21.77100</td>\n",
       "    </tr>\n",
       "    <tr>\n",
       "      <th>245452</th>\n",
       "      <td>ffffccbfc8a4</td>\n",
       "      <td>0.0</td>\n",
       "      <td>0.0</td>\n",
       "      <td>0.0000</td>\n",
       "      <td>0.0000</td>\n",
       "      <td>16.46100</td>\n",
       "      <td>16.46100</td>\n",
       "    </tr>\n",
       "  </tbody>\n",
       "</table>\n",
       "<p>245453 rows × 7 columns</p>\n",
       "</div>"
      ],
      "text/plain": [
       "        customer_id_  voucher_amount_sum  voucher_amount_median  \\\n",
       "0       000097eabfd9                 0.0                    0.0   \n",
       "1       0000e2c6d9be                 0.0                    0.0   \n",
       "2       000133bb597f                 0.0                    0.0   \n",
       "3       00018269939b                 0.0                    0.0   \n",
       "4       0001a00468a6                 0.0                    0.0   \n",
       "...              ...                 ...                    ...   \n",
       "245448  fffd696eaedd                 0.0                    0.0   \n",
       "245449  fffe9d5a8d41                 0.0                    0.0   \n",
       "245450  ffff347c3cfa                 0.0                    0.0   \n",
       "245451  ffff4519b52d                 0.0                    0.0   \n",
       "245452  ffffccbfc8a4                 0.0                    0.0   \n",
       "\n",
       "        delivery_fee_sum  delivery_fee_median  amount_paid_sum  \\\n",
       "0                 0.0000               0.0000         11.46960   \n",
       "1                 0.0000               0.0000          9.55800   \n",
       "2                 0.4930               0.4930          5.93658   \n",
       "3                 0.4930               0.4930          9.82350   \n",
       "4                 0.4930               0.4930          5.15070   \n",
       "...                  ...                  ...              ...   \n",
       "245448            1.4297               1.4297         24.13395   \n",
       "245449            0.0000               0.0000         29.89530   \n",
       "245450            0.0000               0.0000         13.54050   \n",
       "245451            0.0000               0.0000         21.77100   \n",
       "245452            0.0000               0.0000         16.46100   \n",
       "\n",
       "        amount_paid_median  \n",
       "0                 11.46960  \n",
       "1                  9.55800  \n",
       "2                  5.93658  \n",
       "3                  9.82350  \n",
       "4                  5.15070  \n",
       "...                    ...  \n",
       "245448            24.13395  \n",
       "245449            10.72620  \n",
       "245450             6.77025  \n",
       "245451            21.77100  \n",
       "245452            16.46100  \n",
       "\n",
       "[245453 rows x 7 columns]"
      ]
     },
     "execution_count": 173,
     "metadata": {},
     "output_type": "execute_result"
    }
   ],
   "source": [
    "# Monetary\n",
    "df_money = df.groupby('customer_id')[['voucher_amount', 'delivery_fee', 'amount_paid']]\\\n",
    "    .agg(['sum','median']).reset_index()\n",
    "df_money.columns = ['_'.join(col) for col in df_money.columns.values]\n",
    "df_money"
   ]
  },
  {
   "cell_type": "code",
   "execution_count": 192,
   "metadata": {},
   "outputs": [],
   "source": [
    "df_money.to_csv('processed_data/df_money.csv', index=False)"
   ]
  },
  {
   "cell_type": "code",
   "execution_count": 174,
   "metadata": {},
   "outputs": [
    {
     "data": {
      "text/html": [
       "<div>\n",
       "<style scoped>\n",
       "    .dataframe tbody tr th:only-of-type {\n",
       "        vertical-align: middle;\n",
       "    }\n",
       "\n",
       "    .dataframe tbody tr th {\n",
       "        vertical-align: top;\n",
       "    }\n",
       "\n",
       "    .dataframe thead th {\n",
       "        text-align: right;\n",
       "    }\n",
       "</style>\n",
       "<table border=\"1\" class=\"dataframe\">\n",
       "  <thead>\n",
       "    <tr style=\"text-align: right;\">\n",
       "      <th></th>\n",
       "      <th>customer_order_rank</th>\n",
       "      <th>is_failed_sum</th>\n",
       "      <th>is_succeeded_sum</th>\n",
       "    </tr>\n",
       "    <tr>\n",
       "      <th>customer_id</th>\n",
       "      <th></th>\n",
       "      <th></th>\n",
       "      <th></th>\n",
       "    </tr>\n",
       "  </thead>\n",
       "  <tbody>\n",
       "    <tr>\n",
       "      <th>000097eabfd9</th>\n",
       "      <td>1.0</td>\n",
       "      <td>0</td>\n",
       "      <td>1</td>\n",
       "    </tr>\n",
       "    <tr>\n",
       "      <th>0000e2c6d9be</th>\n",
       "      <td>1.0</td>\n",
       "      <td>0</td>\n",
       "      <td>1</td>\n",
       "    </tr>\n",
       "    <tr>\n",
       "      <th>000133bb597f</th>\n",
       "      <td>1.0</td>\n",
       "      <td>0</td>\n",
       "      <td>1</td>\n",
       "    </tr>\n",
       "    <tr>\n",
       "      <th>00018269939b</th>\n",
       "      <td>1.0</td>\n",
       "      <td>0</td>\n",
       "      <td>1</td>\n",
       "    </tr>\n",
       "    <tr>\n",
       "      <th>0001a00468a6</th>\n",
       "      <td>1.0</td>\n",
       "      <td>0</td>\n",
       "      <td>1</td>\n",
       "    </tr>\n",
       "    <tr>\n",
       "      <th>...</th>\n",
       "      <td>...</td>\n",
       "      <td>...</td>\n",
       "      <td>...</td>\n",
       "    </tr>\n",
       "    <tr>\n",
       "      <th>fffd696eaedd</th>\n",
       "      <td>1.0</td>\n",
       "      <td>0</td>\n",
       "      <td>1</td>\n",
       "    </tr>\n",
       "    <tr>\n",
       "      <th>fffe9d5a8d41</th>\n",
       "      <td>1.0</td>\n",
       "      <td>2</td>\n",
       "      <td>1</td>\n",
       "    </tr>\n",
       "    <tr>\n",
       "      <th>ffff347c3cfa</th>\n",
       "      <td>2.0</td>\n",
       "      <td>0</td>\n",
       "      <td>2</td>\n",
       "    </tr>\n",
       "    <tr>\n",
       "      <th>ffff4519b52d</th>\n",
       "      <td>1.0</td>\n",
       "      <td>0</td>\n",
       "      <td>1</td>\n",
       "    </tr>\n",
       "    <tr>\n",
       "      <th>ffffccbfc8a4</th>\n",
       "      <td>1.0</td>\n",
       "      <td>0</td>\n",
       "      <td>1</td>\n",
       "    </tr>\n",
       "  </tbody>\n",
       "</table>\n",
       "<p>245453 rows × 3 columns</p>\n",
       "</div>"
      ],
      "text/plain": [
       "              customer_order_rank  is_failed_sum  is_succeeded_sum\n",
       "customer_id                                                       \n",
       "000097eabfd9                  1.0              0                 1\n",
       "0000e2c6d9be                  1.0              0                 1\n",
       "000133bb597f                  1.0              0                 1\n",
       "00018269939b                  1.0              0                 1\n",
       "0001a00468a6                  1.0              0                 1\n",
       "...                           ...            ...               ...\n",
       "fffd696eaedd                  1.0              0                 1\n",
       "fffe9d5a8d41                  1.0              2                 1\n",
       "ffff347c3cfa                  2.0              0                 2\n",
       "ffff4519b52d                  1.0              0                 1\n",
       "ffffccbfc8a4                  1.0              0                 1\n",
       "\n",
       "[245453 rows x 3 columns]"
      ]
     },
     "execution_count": 174,
     "metadata": {},
     "output_type": "execute_result"
    }
   ],
   "source": [
    "# Misc: Loyalty, Total failed transactions\n",
    "df_misc = df.groupby('customer_id').agg({\n",
    "    'customer_order_rank': 'max',\n",
    "    'is_failed': 'sum',\n",
    "    'is_succeeded': 'sum'\n",
    "})\n",
    "df_misc.rename(columns={'is_failed':'is_failed_sum',\n",
    "                       'is_succeeded':'is_succeeded_sum'}, inplace=True)\n",
    "df_misc"
   ]
  },
  {
   "cell_type": "code",
   "execution_count": 193,
   "metadata": {},
   "outputs": [],
   "source": [
    "df_misc.to_csv('processed_data/df_misc.csv', index=False)"
   ]
  },
  {
   "cell_type": "markdown",
   "metadata": {},
   "source": [
    "#### 2. Transaction behaviors (weekday preference in terms of %)"
   ]
  },
  {
   "cell_type": "code",
   "execution_count": 185,
   "metadata": {},
   "outputs": [
    {
     "data": {
      "text/html": [
       "<div>\n",
       "<style scoped>\n",
       "    .dataframe tbody tr th:only-of-type {\n",
       "        vertical-align: middle;\n",
       "    }\n",
       "\n",
       "    .dataframe tbody tr th {\n",
       "        vertical-align: top;\n",
       "    }\n",
       "\n",
       "    .dataframe thead th {\n",
       "        text-align: right;\n",
       "    }\n",
       "</style>\n",
       "<table border=\"1\" class=\"dataframe\">\n",
       "  <thead>\n",
       "    <tr style=\"text-align: right;\">\n",
       "      <th></th>\n",
       "      <th>Monday</th>\n",
       "      <th>Tuesday</th>\n",
       "      <th>Wednesday</th>\n",
       "      <th>Thursday</th>\n",
       "      <th>Friday</th>\n",
       "      <th>Saturday</th>\n",
       "      <th>Sunday</th>\n",
       "    </tr>\n",
       "    <tr>\n",
       "      <th>customer_id</th>\n",
       "      <th></th>\n",
       "      <th></th>\n",
       "      <th></th>\n",
       "      <th></th>\n",
       "      <th></th>\n",
       "      <th></th>\n",
       "      <th></th>\n",
       "    </tr>\n",
       "  </thead>\n",
       "  <tbody>\n",
       "    <tr>\n",
       "      <th>000097eabfd9</th>\n",
       "      <td>0.0</td>\n",
       "      <td>0.0</td>\n",
       "      <td>0.0</td>\n",
       "      <td>0.0</td>\n",
       "      <td>0.000000</td>\n",
       "      <td>1.0</td>\n",
       "      <td>0.000000</td>\n",
       "    </tr>\n",
       "    <tr>\n",
       "      <th>0000e2c6d9be</th>\n",
       "      <td>0.0</td>\n",
       "      <td>0.0</td>\n",
       "      <td>0.0</td>\n",
       "      <td>0.0</td>\n",
       "      <td>1.000000</td>\n",
       "      <td>0.0</td>\n",
       "      <td>0.000000</td>\n",
       "    </tr>\n",
       "    <tr>\n",
       "      <th>000133bb597f</th>\n",
       "      <td>0.0</td>\n",
       "      <td>0.0</td>\n",
       "      <td>0.0</td>\n",
       "      <td>0.0</td>\n",
       "      <td>0.000000</td>\n",
       "      <td>0.0</td>\n",
       "      <td>1.000000</td>\n",
       "    </tr>\n",
       "    <tr>\n",
       "      <th>00018269939b</th>\n",
       "      <td>0.0</td>\n",
       "      <td>0.0</td>\n",
       "      <td>0.0</td>\n",
       "      <td>0.0</td>\n",
       "      <td>0.000000</td>\n",
       "      <td>0.0</td>\n",
       "      <td>1.000000</td>\n",
       "    </tr>\n",
       "    <tr>\n",
       "      <th>0001a00468a6</th>\n",
       "      <td>0.0</td>\n",
       "      <td>1.0</td>\n",
       "      <td>0.0</td>\n",
       "      <td>0.0</td>\n",
       "      <td>0.000000</td>\n",
       "      <td>0.0</td>\n",
       "      <td>0.000000</td>\n",
       "    </tr>\n",
       "    <tr>\n",
       "      <th>...</th>\n",
       "      <td>...</td>\n",
       "      <td>...</td>\n",
       "      <td>...</td>\n",
       "      <td>...</td>\n",
       "      <td>...</td>\n",
       "      <td>...</td>\n",
       "      <td>...</td>\n",
       "    </tr>\n",
       "    <tr>\n",
       "      <th>fffd696eaedd</th>\n",
       "      <td>1.0</td>\n",
       "      <td>0.0</td>\n",
       "      <td>0.0</td>\n",
       "      <td>0.0</td>\n",
       "      <td>0.000000</td>\n",
       "      <td>0.0</td>\n",
       "      <td>0.000000</td>\n",
       "    </tr>\n",
       "    <tr>\n",
       "      <th>fffe9d5a8d41</th>\n",
       "      <td>0.0</td>\n",
       "      <td>0.0</td>\n",
       "      <td>0.0</td>\n",
       "      <td>0.0</td>\n",
       "      <td>0.666667</td>\n",
       "      <td>0.0</td>\n",
       "      <td>0.333333</td>\n",
       "    </tr>\n",
       "    <tr>\n",
       "      <th>ffff347c3cfa</th>\n",
       "      <td>0.0</td>\n",
       "      <td>0.0</td>\n",
       "      <td>0.5</td>\n",
       "      <td>0.5</td>\n",
       "      <td>0.000000</td>\n",
       "      <td>0.0</td>\n",
       "      <td>0.000000</td>\n",
       "    </tr>\n",
       "    <tr>\n",
       "      <th>ffff4519b52d</th>\n",
       "      <td>0.0</td>\n",
       "      <td>0.0</td>\n",
       "      <td>0.0</td>\n",
       "      <td>0.0</td>\n",
       "      <td>0.000000</td>\n",
       "      <td>1.0</td>\n",
       "      <td>0.000000</td>\n",
       "    </tr>\n",
       "    <tr>\n",
       "      <th>ffffccbfc8a4</th>\n",
       "      <td>0.0</td>\n",
       "      <td>0.0</td>\n",
       "      <td>0.0</td>\n",
       "      <td>0.0</td>\n",
       "      <td>0.000000</td>\n",
       "      <td>1.0</td>\n",
       "      <td>0.000000</td>\n",
       "    </tr>\n",
       "  </tbody>\n",
       "</table>\n",
       "<p>245453 rows × 7 columns</p>\n",
       "</div>"
      ],
      "text/plain": [
       "              Monday  Tuesday  Wednesday  Thursday    Friday  Saturday  \\\n",
       "customer_id                                                              \n",
       "000097eabfd9     0.0      0.0        0.0       0.0  0.000000       1.0   \n",
       "0000e2c6d9be     0.0      0.0        0.0       0.0  1.000000       0.0   \n",
       "000133bb597f     0.0      0.0        0.0       0.0  0.000000       0.0   \n",
       "00018269939b     0.0      0.0        0.0       0.0  0.000000       0.0   \n",
       "0001a00468a6     0.0      1.0        0.0       0.0  0.000000       0.0   \n",
       "...              ...      ...        ...       ...       ...       ...   \n",
       "fffd696eaedd     1.0      0.0        0.0       0.0  0.000000       0.0   \n",
       "fffe9d5a8d41     0.0      0.0        0.0       0.0  0.666667       0.0   \n",
       "ffff347c3cfa     0.0      0.0        0.5       0.5  0.000000       0.0   \n",
       "ffff4519b52d     0.0      0.0        0.0       0.0  0.000000       1.0   \n",
       "ffffccbfc8a4     0.0      0.0        0.0       0.0  0.000000       1.0   \n",
       "\n",
       "                Sunday  \n",
       "customer_id             \n",
       "000097eabfd9  0.000000  \n",
       "0000e2c6d9be  0.000000  \n",
       "000133bb597f  1.000000  \n",
       "00018269939b  1.000000  \n",
       "0001a00468a6  0.000000  \n",
       "...                ...  \n",
       "fffd696eaedd  0.000000  \n",
       "fffe9d5a8d41  0.333333  \n",
       "ffff347c3cfa  0.000000  \n",
       "ffff4519b52d  0.000000  \n",
       "ffffccbfc8a4  0.000000  \n",
       "\n",
       "[245453 rows x 7 columns]"
      ]
     },
     "execution_count": 185,
     "metadata": {},
     "output_type": "execute_result"
    }
   ],
   "source": [
    "weekdays = ['Monday', 'Tuesday', 'Wednesday', 'Thursday', 'Friday', 'Saturday', 'Sunday']\n",
    "\n",
    "df_weekday = df.groupby('customer_id')['weekday'].value_counts(normalize=True)\n",
    "df_weekday = df_weekday.reset_index(name='perc')\n",
    "df_weekday = pd.pivot_table(df_weekday, index=['customer_id'], columns=['weekday'], \n",
    "        values=['perc'], aggfunc=np.mean)\n",
    "df_weekday.columns = [col[-1] for col in df_weekday.columns.values]\n",
    "df_weekday.fillna(0, inplace=True)\n",
    "\n",
    "df_weekday = df_weekday[weekdays]\n",
    "df_weekday"
   ]
  },
  {
   "cell_type": "code",
   "execution_count": 194,
   "metadata": {},
   "outputs": [],
   "source": [
    "df_weekday.to_csv('processed_data/df_weekday.csv', index=False)"
   ]
  },
  {
   "cell_type": "code",
   "execution_count": 186,
   "metadata": {},
   "outputs": [],
   "source": [
    "# weekdays = ['Monday', 'Tuesday', 'Wednesday', 'Thursday', 'Friday', 'Saturday', 'Sunday']\n",
    "\n",
    "\n",
    "# def weekday_dist(g):\n",
    "#     weekday_cnt = g.weekday.value_counts() / len(g) * 100\n",
    "#     weekday_cnt = weekday_cnt.to_dict()\n",
    "#     for d in weekdays:\n",
    "#         weekday_cnt[d] = weekday_cnt.get(d, 0.0)\n",
    "    \n",
    "#     return pd.Series(weekday_cnt, index=weekdays)\n",
    "\n",
    "# df_weekday = df.groupby(['customer_id'])[['weekday']].apply(weekday_dist)\n",
    "# df_weekday"
   ]
  },
  {
   "cell_type": "markdown",
   "metadata": {},
   "source": [
    "#### 3. Restaurant orientations (variety of ordered restaurants)"
   ]
  },
  {
   "cell_type": "markdown",
   "metadata": {},
   "source": [
    "For each customer, this is computed as the percentage of the most ordered restaurant in all of his/her orders. For example, it is `1.0` if a customer ordered only once."
   ]
  },
  {
   "cell_type": "code",
   "execution_count": 187,
   "metadata": {},
   "outputs": [
    {
     "data": {
      "text/html": [
       "<div>\n",
       "<style scoped>\n",
       "    .dataframe tbody tr th:only-of-type {\n",
       "        vertical-align: middle;\n",
       "    }\n",
       "\n",
       "    .dataframe tbody tr th {\n",
       "        vertical-align: top;\n",
       "    }\n",
       "\n",
       "    .dataframe thead th {\n",
       "        text-align: right;\n",
       "    }\n",
       "</style>\n",
       "<table border=\"1\" class=\"dataframe\">\n",
       "  <thead>\n",
       "    <tr style=\"text-align: right;\">\n",
       "      <th></th>\n",
       "      <th>customer_id</th>\n",
       "      <th>top_restaurant_perc</th>\n",
       "    </tr>\n",
       "  </thead>\n",
       "  <tbody>\n",
       "    <tr>\n",
       "      <th>0</th>\n",
       "      <td>000097eabfd9</td>\n",
       "      <td>1.000000</td>\n",
       "    </tr>\n",
       "    <tr>\n",
       "      <th>1</th>\n",
       "      <td>0000e2c6d9be</td>\n",
       "      <td>1.000000</td>\n",
       "    </tr>\n",
       "    <tr>\n",
       "      <th>2</th>\n",
       "      <td>000133bb597f</td>\n",
       "      <td>1.000000</td>\n",
       "    </tr>\n",
       "    <tr>\n",
       "      <th>3</th>\n",
       "      <td>00018269939b</td>\n",
       "      <td>1.000000</td>\n",
       "    </tr>\n",
       "    <tr>\n",
       "      <th>4</th>\n",
       "      <td>0001a00468a6</td>\n",
       "      <td>1.000000</td>\n",
       "    </tr>\n",
       "    <tr>\n",
       "      <th>...</th>\n",
       "      <td>...</td>\n",
       "      <td>...</td>\n",
       "    </tr>\n",
       "    <tr>\n",
       "      <th>432174</th>\n",
       "      <td>fffe9d5a8d41</td>\n",
       "      <td>0.333333</td>\n",
       "    </tr>\n",
       "    <tr>\n",
       "      <th>432175</th>\n",
       "      <td>ffff347c3cfa</td>\n",
       "      <td>0.500000</td>\n",
       "    </tr>\n",
       "    <tr>\n",
       "      <th>432176</th>\n",
       "      <td>ffff347c3cfa</td>\n",
       "      <td>0.500000</td>\n",
       "    </tr>\n",
       "    <tr>\n",
       "      <th>432177</th>\n",
       "      <td>ffff4519b52d</td>\n",
       "      <td>1.000000</td>\n",
       "    </tr>\n",
       "    <tr>\n",
       "      <th>432178</th>\n",
       "      <td>ffffccbfc8a4</td>\n",
       "      <td>1.000000</td>\n",
       "    </tr>\n",
       "  </tbody>\n",
       "</table>\n",
       "<p>432179 rows × 2 columns</p>\n",
       "</div>"
      ],
      "text/plain": [
       "         customer_id  top_restaurant_perc\n",
       "0       000097eabfd9             1.000000\n",
       "1       0000e2c6d9be             1.000000\n",
       "2       000133bb597f             1.000000\n",
       "3       00018269939b             1.000000\n",
       "4       0001a00468a6             1.000000\n",
       "...              ...                  ...\n",
       "432174  fffe9d5a8d41             0.333333\n",
       "432175  ffff347c3cfa             0.500000\n",
       "432176  ffff347c3cfa             0.500000\n",
       "432177  ffff4519b52d             1.000000\n",
       "432178  ffffccbfc8a4             1.000000\n",
       "\n",
       "[432179 rows x 2 columns]"
      ]
     },
     "execution_count": 187,
     "metadata": {},
     "output_type": "execute_result"
    }
   ],
   "source": [
    "# df_res = df[df.is_failed==0].groupby(['customer_id', 'restaurant_id']).size().reset_index(name='counts')\n",
    "df_res = df.groupby('customer_id')['restaurant_id'].value_counts(normalize=True)\n",
    "df_res = df_res.reset_index(name='top_restaurant_perc').drop('restaurant_id', axis='columns')\n",
    "df_res.groupby('customer_id').first()\n",
    "df_rec"
   ]
  },
  {
   "cell_type": "code",
   "execution_count": 188,
   "metadata": {},
   "outputs": [
    {
     "data": {
      "text/plain": [
       "245453"
      ]
     },
     "execution_count": 188,
     "metadata": {},
     "output_type": "execute_result"
    }
   ],
   "source": [
    "len(df_rec.customer_id.unique())"
   ]
  },
  {
   "cell_type": "markdown",
   "metadata": {},
   "source": [
    "### Problem Formulation"
   ]
  },
  {
   "cell_type": "markdown",
   "metadata": {},
   "source": [
    "#### 1. A Simple Model on Feb 2017"
   ]
  },
  {
   "cell_type": "markdown",
   "metadata": {},
   "source": [
    "We are going to use features derived in one year (2016-03 to 2017-02) to train and predict if a customer comes back within 6 months. The reason for *one year (12 months)* period is that holidays reoccur yearly, so customers might order again if they order last year; that's the longest time factor that can drive reodering."
   ]
  },
  {
   "cell_type": "code",
   "execution_count": 34,
   "metadata": {},
   "outputs": [
    {
     "data": {
      "text/plain": [
       "(507770, 14)"
      ]
     },
     "execution_count": 34,
     "metadata": {},
     "output_type": "execute_result"
    }
   ],
   "source": [
    "df_order_sample = df_order[df_order.order_date >= '2016-03-01'].reset_index()\n",
    "df_order_sample.shape"
   ]
  },
  {
   "cell_type": "code",
   "execution_count": 70,
   "metadata": {},
   "outputs": [
    {
     "data": {
      "text/plain": [
       "1.0"
      ]
     },
     "execution_count": 70,
     "metadata": {},
     "output_type": "execute_result"
    }
   ],
   "source": [
    "np.median([1])"
   ]
  },
  {
   "cell_type": "code",
   "execution_count": null,
   "metadata": {},
   "outputs": [],
   "source": []
  },
  {
   "cell_type": "code",
   "execution_count": null,
   "metadata": {},
   "outputs": [],
   "source": []
  },
  {
   "cell_type": "code",
   "execution_count": null,
   "metadata": {},
   "outputs": [],
   "source": []
  },
  {
   "cell_type": "code",
   "execution_count": null,
   "metadata": {},
   "outputs": [],
   "source": []
  },
  {
   "cell_type": "code",
   "execution_count": null,
   "metadata": {},
   "outputs": [],
   "source": []
  },
  {
   "cell_type": "code",
   "execution_count": null,
   "metadata": {},
   "outputs": [],
   "source": []
  },
  {
   "cell_type": "code",
   "execution_count": null,
   "metadata": {},
   "outputs": [],
   "source": []
  },
  {
   "cell_type": "code",
   "execution_count": null,
   "metadata": {},
   "outputs": [],
   "source": []
  },
  {
   "cell_type": "code",
   "execution_count": null,
   "metadata": {},
   "outputs": [],
   "source": []
  },
  {
   "cell_type": "code",
   "execution_count": null,
   "metadata": {},
   "outputs": [],
   "source": [
    "### Problem Design and Train-Test Splitting\n",
    "df_order.order_date.min(), df_order.order_date.max()"
   ]
  }
 ],
 "metadata": {
  "kernelspec": {
   "display_name": "Python 3",
   "language": "python",
   "name": "python3"
  },
  "language_info": {
   "codemirror_mode": {
    "name": "ipython",
    "version": 3
   },
   "file_extension": ".py",
   "mimetype": "text/x-python",
   "name": "python",
   "nbconvert_exporter": "python",
   "pygments_lexer": "ipython3",
   "version": "3.7.9"
  }
 },
 "nbformat": 4,
 "nbformat_minor": 4
}
